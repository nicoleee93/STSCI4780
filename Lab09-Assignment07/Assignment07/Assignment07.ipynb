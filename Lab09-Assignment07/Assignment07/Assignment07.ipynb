{
 "cells": [
  {
   "cell_type": "markdown",
   "metadata": {},
   "source": [
    "# Assignment 07\n",
    "\n",
    "**Due:** 2022-04-01, 11:59 PM, as a Jupyter notebook (with related files) submitted via your repo in the course GitHub organization.  Use the solutions template notebook, and **be sure not to modify the subproblem cells** in your solution file.\n",
    "\n",
    "The BVNDemo notebook should *not* be included with your submitted solutions.\n",
    "\n",
    "**Note that Problem 3 is for 5780 students only.**"
   ]
  },
  {
   "cell_type": "markdown",
   "metadata": {},
   "source": [
    "## 1. Interactive plotting of bivariate normal distributions\n",
    "\n",
    "In this part of the assignment, you'll write code to interactively plot a bivariate normal (BVN), both to develop insight into BVNs, and to gain experience with building interactive plots.  Use the `BivariateNormal` class in the `bvn.py` module provided with this assignment."
   ]
  },
  {
   "cell_type": "markdown",
   "metadata": {
    "tags": [
     "problem=1",
     "points=3"
    ]
   },
   "source": [
    "### Problem 1 (3 points):\n",
    "\n",
    "* Add new methods to the `BivariateNormal` class, `y_x_pdf(self, x, yvals)` and `x_y_pdf(self, y, xvals)`, that evaluate the conditional PDFs for $y$ given $x$ and $x$ given $y$ (respectively), on an array of values of the target variable given the conditioning variable.\n",
    "* In the notebook, write a function `plot_bvn_rho_cond(rho, x)` that plots a standard BVN distribution with correlation coefficient `rho`, the same way the `plot_bvn_rho` function in the `BVNDemo` notebook does.  In addition, it should plot a vertical line on the plot at `x`, and, in a separate set of axes, plot the conditional PDF for $y$ given $x$ with the specified `x` value.\n",
    "There is more than one good way to do this, and depending on how you implement it, you may condition on $y$ instead of $x$ if that makes your plot look better.\n",
    "* Using your new function, create an interactive widget that displays the joint and conditional PDFs with sliders controlling `rho` and `x`."
   ]
  },
  {
   "cell_type": "markdown",
   "metadata": {},
   "source": [
    "## 2. Computing with samples from a multivariate distribution\n",
    "\n",
    "For this problem, you'll use IID samples from a BVN distribution to compute several summaries of the distribution. This will resemble how you'll use samples from multivariate posterior distributions in future assignments (where the samples will come from an MCMC algorithm).\n",
    "\n",
    "Pick a single BVN distribution to use for both parts of this problem, with your own choice of values for the five BVN parameters (using a $\\rho$ value producing a noticeable correlation).\n",
    "\n",
    "You do not need to use multipanel plots or Jupyter widgets for this problem. You should produce separate plots in separate cells for each part of the problem. *Pay attention to the hints*; a significant part of the work for this problem is done for you, if you know where to look."
   ]
  },
  {
   "cell_type": "markdown",
   "metadata": {
    "tags": [
     "problem=2.1",
     "points=2"
    ]
   },
   "source": [
    "### Problem 2.1 (2 points)\n",
    "\n",
    "Write a function named `plot_bvn_samples` in the notebook that takes a BVN instance as input, and does the following:\n",
    "* Draw `n` samples from the BVN (using its `sample` method)\n",
    "* Plot the samples as a 2D scatterplot.\n",
    "* Evaluate the BVN PDF for the samples.\n",
    "* Use the PDF values to plot 3 contours (in the same plot), with contour levels chosen to bound highest-density regions with probability 50%, 75%, and 90%.\n",
    "* Return an array containing the sample values.\n",
    "\n",
    "Use the function to make one plot in the notebook, for your chosen BVN distribution, using at least a few hundred samples (choosing the point size and opacity appropriately so that the scatterplot is visually informative).\n",
    "\n",
    "***Hint:*** You may copy the `plot_bvn` function in the `bvn.py` module to use as a starting point; it does most of the work for you! You may have your function generate the plot from scratch, or take axes as input (as the `plot_bvn` function does). Eliminate any unnecessary code from `plot_bvn` (e.g., plotting regressioin lines). Your function should be *simpler* than `plot_bvn`, except for the part computing the PDF values and the contour levels."
   ]
  },
  {
   "cell_type": "markdown",
   "metadata": {
    "tags": [
     "problem=2.2",
     "points=2"
    ]
   },
   "source": [
    "### Problem 2.2 (2 points)\n",
    "\n",
    "Use the samples returned from your `plot_bvn_samples` function in Problem 2.2 to compute the following summaries of the BVN distribution:\n",
    "* Compute the mean and standard deviation of both $x$ and $y$. Print them in the notebook (with appropriate precision), along with the true values.\n",
    "* Use the samples to plot a histogram estimate of $p(x)$, the marginal distribution for $x$. Include error bars on the plot (indicating 1-standard-deviation uncertainties). On the same figure, plot a curve showing the actual (normal) marginal distribution.\n",
    "\n",
    "***Hint:*** For the histogram error bars, you may use a simple \"root-$n$\" estimate for the uncertainty. Alternatively, the `sig_alpha` function in the Assignment06 `two_state_markov.py` module could be used to get somewhat more accurate error bars, as is done in the `TwoStateMarkovChain` class in that module."
   ]
  },
  {
   "cell_type": "markdown",
   "metadata": {},
   "source": [
    "## 3. Gibbs sampling of bivariate normal distributions (5780 only)\n",
    "\n",
    "In this part of the assignment, you'll write your own Gibbs sampler for drawing samples from a bivariate normal (BVN).  Use the `BivariateNormal` class in the `bvn.py` module provided with this assignment."
   ]
  },
  {
   "cell_type": "markdown",
   "metadata": {
    "tags": [
     "problem=3.1",
     "points=3",
     "5780"
    ]
   },
   "source": [
    "### Problem 3.1 (3 points):\n",
    "\n",
    "Add two methods to the `BivariateNormal` class that directly, exactly sample from the (full) conditional PDFs for each variable, `x` and `y` (they're both normal PDFs):\n",
    "\n",
    "* Write a method `y_x_sample(self, x)` that returns a single $y$ sample from the conditional distribution $p(y|x)$.\n",
    "* Write a method `x_y_sample(self, y)` that returns a single $x$ sample from the conditional distribution $p(x|y)$.\n",
    "* Plot a BVN example with nonzero $\\rho$ (using `plot_bvn`), including a vertical and horizontal line indicating a selection of an $x$ and $y$ value (your choice) for which you'll plot conditional distributions (for the complementary variable).  Produce two more plots (corresponding to the chosen $x$ and $y$), each with a smooth curve showing the conditional PDF, and a histogram of a few hundred samples from your samplers.  Produce these in a multipanel plot, with the conditional PDF plots oriented appropriately around the joint PDF plot."
   ]
  },
  {
   "cell_type": "markdown",
   "metadata": {
    "tags": [
     "problem=3.2",
     "points=4",
     "5780"
    ]
   },
   "source": [
    "### Problem 3.2 (4 points):\n",
    "\n",
    "Implement the Gibbs sampler, demonstrating its operation twice, with modestly and highly correlated BVN cases, as specified below.  You don't need to do any special multipanel plotting for this problem.\n",
    "\n",
    "* Write a function `gibbs(bvn, n)` that takes a `BivariateNormal` instance, `bvn`, and an integer, `n`, and returns a list (or array) of (x,y) pairs sampled from `bvn` using the Gibbs sampling algorithm, with random selection of which variable to update on each iteration.\n",
    "* Use your function to sample a few hundred points from a BVN case with $\\rho=1/2$.  Produce three plots showing the samples:  one based upon a `plot_bvn` plot, showing the sample path in the $(x,y)$ plane, and two other trace plots showing the $x$ and $y$ sample paths.\n",
    "* Do the same thing, but now for a BVN case with $\\rho=0.97$.\n",
    "* In a Markdown cell, briefly comment on how the Gibbs sampler behaves in the two cases."
   ]
  }
 ],
 "metadata": {
  "celltoolbar": "Tags",
  "kernelspec": {
   "display_name": "Python 3 (ipykernel)",
   "language": "python",
   "name": "python3"
  },
  "language_info": {
   "codemirror_mode": {
    "name": "ipython",
    "version": 3
   },
   "file_extension": ".py",
   "mimetype": "text/x-python",
   "name": "python",
   "nbconvert_exporter": "python",
   "pygments_lexer": "ipython3",
   "version": "3.9.7"
  }
 },
 "nbformat": 4,
 "nbformat_minor": 2
}
