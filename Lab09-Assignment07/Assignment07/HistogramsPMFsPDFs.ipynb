{
 "cells": [
  {
   "cell_type": "markdown",
   "id": "dd923268",
   "metadata": {},
   "source": [
    "# Estimating PMFs and PDFs with histograms"
   ]
  },
  {
   "cell_type": "markdown",
   "id": "48b08dfc",
   "metadata": {},
   "source": [
    "***In a nutshell:***\n",
    "\n",
    "Histograms are constructed by counting the numbers of samples in two or more categories. The categories may arise in two ways:\n",
    "* They may correspond to *intrinsically discrete categories* (e.g., tails and heads for coin flips, the numbers 1 through 6 for outcomes of rolls of a die, or apple/orange/banana/pomegranate/mango for 5 fruits).\n",
    "* They may arise from *binning a continuous quantity*, which creates categories corresponding to a set of intervals for the quantity (usually contiguous intervals).\n",
    "\n",
    "Histograms are used in three main ways:\n",
    "* A *raw* histogram shows the **counts** in the categories. The ordinate is an integer number of counts in a category.\n",
    "* A *normalized* histogram or *frequency* histogram uses the counts to **estimate a PMF** (probabilities for samples falling in each categorie). The histogram ordinate is a *probability* (a real number in $[0,1]$). \"Frequency histogram\" is probably the better term, at least in a binned continuous data setting, since the meaning of \"normalized\" is ambiguous in that setting (it could mean normalized as a sum over the bins, or as an integral giving the area under the histogram curve).\n",
    "* A *density* histogram uses the counts to **estimate a PDF**. It applies only to *binned* continuous data. It typically estimates the PDF at the center of each bin. The density histogram ordinate is a probability *density* (a real number $> 0$, with units of $1/[x]$, where $[x]$ denotes the units of $x$, the binned quantity). It is normalized if one integrates to find the area under the histogram curve."
   ]
  },
  {
   "cell_type": "markdown",
   "id": "62e7c40a",
   "metadata": {},
   "source": [
    "## Imports, setup"
   ]
  },
  {
   "cell_type": "code",
   "execution_count": 1,
   "id": "d0145e09",
   "metadata": {},
   "outputs": [],
   "source": [
    "import numpy as np\n",
    "from numpy import *\n",
    "import scipy\n",
    "import matplotlib as mpl\n",
    "from matplotlib.pyplot import *\n",
    "from scipy import stats"
   ]
  },
  {
   "cell_type": "code",
   "execution_count": 2,
   "id": "9db881e9",
   "metadata": {},
   "outputs": [],
   "source": [
    "# mpl parameter settings for more readable plots:\n",
    "from matplotlib import rc\n",
    "\n",
    "rcParams['figure.figsize'] = (8,6)\n",
    "rc('figure.subplot', bottom=.125, top=.95, right=.95)  # left=0.125\n",
    "rc('axes', labelsize=18)\n",
    "rc('xtick.major', pad=8)\n",
    "rc('xtick', labelsize=14)\n",
    "rc('ytick.major', pad=8)\n",
    "rc('ytick', labelsize=14)"
   ]
  },
  {
   "cell_type": "markdown",
   "id": "50fe32b5",
   "metadata": {},
   "source": [
    "Make sure Jupyter doesn't put largish plots in annoying scrolling windows."
   ]
  },
  {
   "cell_type": "code",
   "execution_count": 3,
   "id": "fba8e9f8",
   "metadata": {},
   "outputs": [
    {
     "data": {
      "application/javascript": [
       "IPython.OutputArea.prototype._should_scroll = function(lines) {\n",
       "    return false;\n",
       "}\n"
      ],
      "text/plain": [
       "<IPython.core.display.Javascript object>"
      ]
     },
     "metadata": {},
     "output_type": "display_data"
    }
   ],
   "source": [
    "%%javascript\n",
    "IPython.OutputArea.prototype._should_scroll = function(lines) {\n",
    "    return false;\n",
    "}"
   ]
  },
  {
   "cell_type": "markdown",
   "id": "5fab6e28",
   "metadata": {},
   "source": [
    "## Samples from a narrow normal distribution\n",
    "\n",
    "We'll demonstrate histogramming using samples from a *narrow* normal PDF, to make the point that a PDF can have values > 1 (it's a *density*, not a probability!)."
   ]
  },
  {
   "cell_type": "code",
   "execution_count": 4,
   "id": "caaad319",
   "metadata": {},
   "outputs": [],
   "source": [
    "# A frozen narrow normal:\n",
    "mu, sig = 3., .1\n",
    "narrow_norm = stats.norm(loc=mu, scale=sig)\n",
    "\n",
    "nsamp = 1000\n",
    "samples = narrow_norm.rvs(nsamp)"
   ]
  },
  {
   "cell_type": "markdown",
   "id": "a0dceea5",
   "metadata": {},
   "source": [
    "## A raw histogram (counts)\n",
    "\n",
    "By default, `matplotlib`'s `pyplot.hist` function produces **raw histograms** (counts in bins).\n",
    "\n",
    "Although we often use `hist` just to plot a histogram, note that `hist` has **return values**, which get shown in the notebook if a \"bare\" call of `hist` is the last expression in a cell, as here:"
   ]
  },
  {
   "cell_type": "code",
   "execution_count": 5,
   "id": "c4d3a795",
   "metadata": {},
   "outputs": [
    {
     "data": {
      "text/plain": [
       "(array([  2.,   5.,   5.,  18.,  36.,  29.,  62.,  71., 103., 122., 112.,\n",
       "        104.,  86.,  90.,  54.,  45.,  22.,  19.,   5.,   4.,   3.]),\n",
       " array([2.7       , 2.72857143, 2.75714286, 2.78571429, 2.81428571,\n",
       "        2.84285714, 2.87142857, 2.9       , 2.92857143, 2.95714286,\n",
       "        2.98571429, 3.01428571, 3.04285714, 3.07142857, 3.1       ,\n",
       "        3.12857143, 3.15714286, 3.18571429, 3.21428571, 3.24285714,\n",
       "        3.27142857, 3.3       ]),\n",
       " <BarContainer object of 21 artists>)"
      ]
     },
     "execution_count": 5,
     "metadata": {},
     "output_type": "execute_result"
    },
    {
     "data": {
      "image/png": "[encoded data removed]",
      "text/plain": [
       "<Figure size 576x432 with 1 Axes>"
      ]
     },
     "metadata": {
      "needs_background": "light"
     },
     "output_type": "display_data"
    }
   ],
   "source": [
    "# Use a range of +- 3*sig.\n",
    "l_u = mu-3*sig, mu+3*sig\n",
    "nbins = 21\n",
    "# \n",
    "hist(samples, bins=nbins, range=l_u, alpha=.7)"
   ]
  },
  {
   "cell_type": "markdown",
   "id": "2417c034",
   "metadata": {},
   "source": [
    "The `hist` output evidently comprises three quantities in a tuple (it can be more complicated if `hist` is used to plot multiple histograms at once). The values are:\n",
    "* the $y$ values comprising the histogram ordinates (in an array of $K$ values for $K$ bins);\n",
    "* the $x$ values for the boundaries (an array of $K+1$ values);\n",
    "* an object containing the rectangular patches comprising the plot (which can be modified to change the plot style)."
   ]
  },
  {
   "cell_type": "code",
   "execution_count": 6,
   "id": "5f38fca4",
   "metadata": {},
   "outputs": [
    {
     "data": {
      "image/png": "[encoded data removed]",
      "text/plain": [
       "<Figure size 576x432 with 1 Axes>"
      ]
     },
     "metadata": {
      "needs_background": "light"
     },
     "output_type": "display_data"
    }
   ],
   "source": [
    "# Capture the hist output:\n",
    "counts, bins, patches = hist(samples, bins=nbins, range=l_u, alpha=.7)"
   ]
  },
  {
   "cell_type": "code",
   "execution_count": 7,
   "id": "f4482f88",
   "metadata": {},
   "outputs": [
    {
     "data": {
      "text/plain": [
       "997.0"
      ]
     },
     "execution_count": 7,
     "metadata": {},
     "output_type": "execute_result"
    }
   ],
   "source": [
    "# This is a raw binned histogram; n has the counts in\n",
    "# the bins.  They sum to nearly equal nsamp (some\n",
    "# samples fell outside of the binned range).\n",
    "counts.sum()"
   ]
  },
  {
   "cell_type": "markdown",
   "id": "f1d2ef32",
   "metadata": {},
   "source": [
    "Let's plot the raw histogram one last time, but now labeled so the reader knows its a raw histogram.  **Always label your plot axes!**"
   ]
  },
  {
   "cell_type": "code",
   "execution_count": 8,
   "id": "9d13bda3",
   "metadata": {},
   "outputs": [
    {
     "data": {
      "image/png": "[encoded data removed]",
      "text/plain": [
       "<Figure size 576x432 with 1 Axes>"
      ]
     },
     "metadata": {
      "needs_background": "light"
     },
     "output_type": "display_data"
    }
   ],
   "source": [
    "counts, bins, patches = hist(samples, bins=nbins, range=l_u, alpha=.7)\n",
    "xlabel('$x$')\n",
    "ylabel('Counts');  # semicolon suppresses the text return value"
   ]
  },
  {
   "cell_type": "markdown",
   "id": "6b256a1d",
   "metadata": {},
   "source": [
    "## A normalized histogram\n",
    "\n",
    "A *normalized* version of this histogram would show estimated *probabilities* for a sample to fall into a bin, typically simply using the *relative frequency* (counts over total counts) to estimate the probability for a sample to fall into each bin.\n",
    "\n",
    "The `hist` function doesn't have an option to produce normalized histograms. They're very useful for intrinsically categorical data (coin flips, die rolls, fruit counts), but `hist` isn't designed for handling such data. They're not so useful for binned continous data, which is what `hist` was designed for.\n",
    "\n",
    "We'll look at normalized histograms for binned data anyway, as a stepping stone to density histograms.\n",
    "\n",
    "The `hist` function has an optional `weights` parameter that we can use to trick it into making a normalized histogram. When provided, `weights` should be an array of floats to be used as the count for each sample. Not providing `weights` has the same effect as setting `weights` equal to an array of 1s for each sample.\n",
    "\n",
    "To get a frequency histogram, we can simply give each sample a weight of `1/nsamp`. This will make the ordinate ($y$ value) equal to the fraction of the whole sample that fell into a bin. If some samples fall out of the binned range, the sum of the plotted frequencies will be less than 1.  If you want the *plotted* histogram to be normalized, the weight should instead be the inverse of the number of samples within the range. We'll normalize over the whole sample here, not just the plotted range."
   ]
  },
  {
   "cell_type": "code",
   "execution_count": 9,
   "id": "29f1e238",
   "metadata": {
    "scrolled": true
   },
   "outputs": [
    {
     "data": {
      "image/png": "[encoded data removed]",
      "text/plain": [
       "<Figure size 576x432 with 1 Axes>"
      ]
     },
     "metadata": {
      "needs_background": "light"
     },
     "output_type": "display_data"
    }
   ],
   "source": [
    "wvals = ones_like(samples)/nsamp\n",
    "yvals, bins, patches = hist(samples, bins=nbins, weights=wvals, range=l_u, alpha=.7)\n",
    "xlabel('$x$')\n",
    "ylabel('Frequency (PMF estimate)');  # semicolon suppresses the text return value"
   ]
  },
  {
   "cell_type": "markdown",
   "id": "ca4a492f",
   "metadata": {},
   "source": [
    "The `y` values do indeed look like a PMF (probabilities for each bin)—they sum to nearly 1 (a bit less because of the outlying samples)."
   ]
  },
  {
   "cell_type": "code",
   "execution_count": 10,
   "id": "8bf4a435",
   "metadata": {},
   "outputs": [
    {
     "data": {
      "text/plain": [
       "0.9970000000000007"
      ]
     },
     "execution_count": 10,
     "metadata": {},
     "output_type": "execute_result"
    }
   ],
   "source": [
    "yvals.sum()"
   ]
  },
  {
   "cell_type": "markdown",
   "id": "06f5e159",
   "metadata": {},
   "source": [
    "## Density histograms\n",
    "\n",
    "To use a histogram to estimate a probability *density*, we simply divide the frequency (a *probability* estimate) by the bin width (since a density is a *probability per unit interval*).\n",
    "\n",
    "The `hist` function has an optional `density` argument that, when set to `True`, does this for us:"
   ]
  },
  {
   "cell_type": "code",
   "execution_count": 11,
   "id": "9911f7e0",
   "metadata": {},
   "outputs": [
    {
     "data": {
      "image/png": "[encoded data removed]",
      "text/plain": [
       "<Figure size 576x432 with 1 Axes>"
      ]
     },
     "metadata": {
      "needs_background": "light"
     },
     "output_type": "display_data"
    }
   ],
   "source": [
    "yvals, bins, patches = hist(samples, bins=nbins, density=True, range=l_u, alpha=.7)\n",
    "xlabel('$x$')\n",
    "ylabel('Density histogram');  # semicolon suppresses the text return value"
   ]
  },
  {
   "cell_type": "markdown",
   "id": "e884ea54",
   "metadata": {},
   "source": [
    "Here are the ordinates:"
   ]
  },
  {
   "cell_type": "code",
   "execution_count": 12,
   "id": "efc17ed1",
   "metadata": {},
   "outputs": [
    {
     "name": "stdout",
     "output_type": "stream",
     "text": [
      "[0.07021063 0.17552658 0.17552658 0.63189569 1.26379137 1.01805416\n",
      " 2.17652959 2.49247743 3.61584754 4.28284855 3.93179539 3.65095286\n",
      " 3.01905717 3.15947844 1.89568706 1.57973922 0.77231695 0.667001\n",
      " 0.17552658 0.14042126 0.10531595]\n"
     ]
    }
   ],
   "source": [
    "print(yvals)"
   ]
  },
  {
   "cell_type": "markdown",
   "id": "615ec2a8",
   "metadata": {},
   "source": [
    "Note that they're floats (not integers), and that they are obviously not probabilities, since they can be greater than 1.  (We used a narrow PDF to make that happen; make sure you understand why it happens; you should be able to roughly estimate the PDF height without seeing the plot, just from knowing the value of `sig`.)"
   ]
  },
  {
   "cell_type": "markdown",
   "id": "19ba61fd",
   "metadata": {},
   "source": [
    "Let's see if those values look like PDF values by finding the sum of the areas of the histogram rectangles."
   ]
  },
  {
   "cell_type": "code",
   "execution_count": 13,
   "id": "1dddbcc9",
   "metadata": {},
   "outputs": [
    {
     "data": {
      "text/plain": [
       "0.9999999999999972"
      ]
     },
     "execution_count": 13,
     "metadata": {},
     "output_type": "execute_result"
    }
   ],
   "source": [
    "dx = bins[1] - bins[0]  # bin width\n",
    "areas = dx*yvals\n",
    "areas.sum()"
   ]
  },
  {
   "cell_type": "markdown",
   "id": "33507360",
   "metadata": {},
   "source": [
    "Looks like a PDF!\n",
    "\n",
    "Note how close to 1 that normalization value is—it's equal to 1 up to roundoff error. That means a density histogram produced by `hist` is **always normalized over the plotted range**. That is, to get the frequency in each bin, it divides the counts by the sum of the counts in all of the plotted bins, not by the total number of samples (or the total of the weights). That's a bit unfortunate, if you want to be \"honest\" about accounting for out-of-range points. Unfortunately, `hist` doesn't provide any options to control this behavior.\n",
    "\n",
    "A density histogram is a *piecewise constant* PDF estimate. We can get something that looks a bit smoother by considering the density estimates to be PDF estimates at the bin centers, and plotting the resulting curve (here shown on top of the density histogram)."
   ]
  },
  {
   "cell_type": "code",
   "execution_count": 14,
   "id": "3628a4a1",
   "metadata": {},
   "outputs": [
    {
     "data": {
      "image/png": "[encoded data removed]",
      "text/plain": [
       "<Figure size 576x432 with 1 Axes>"
      ]
     },
     "metadata": {
      "needs_background": "light"
     },
     "output_type": "display_data"
    }
   ],
   "source": [
    "yvals, bins, patches = hist(samples, bins=nbins, density=True, range=l_u, alpha=.5)\n",
    "centers = 0.5*(bins[:-1] + bins[1:])  # average of left, right sides\n",
    "plot(centers, yvals, ls='-', lw=3, alpha=.7)\n",
    "xlabel('$x$')\n",
    "ylabel('PDF estimate');"
   ]
  },
  {
   "cell_type": "markdown",
   "id": "84430754",
   "metadata": {},
   "source": [
    "That looks pretty ugly, both because of the coarse binning, and because of the uncertainty of the estimates, due to the modest number of samples.  With at most ~100 counts per bin, the RMS error in the frequency estimates in the most populated bins is $\\sim \\sqrt{100}/100 = 0.1$, or 10% of the $y$ value; once adjusted to be a PDF estimate (by dividing by the bin width), the error is the same 10%.  That's a fair amount of uncertainty—and it's larger for the less-populated bins. We should communicate that somehow.\n",
    "\n",
    "A good way to communicate the uncertainty is by reporting the posterior standard deviation for the PDF estimate in each bin, e.g., with error bars at the bin centers.\n",
    "\n",
    "Thinking back to Lec05 (Bernoulli/binomial inference), we know how to get the posterior standard deviation for the estimate of the *probability*, $\\alpha$, for a discrete outcome (heads vs. tail).  We can apply that knowledge here, bin by bin, considering $\\alpha_k$ to be the probability for a sample to fall into bin $k$ (so that $(1-\\alpha_k)$ is the probability for a sample to fall outside that bin).\n",
    "\n",
    "Translating to our current cetting, we showed in Lec05 that the posterior PDF for $\\alpha_k$ is a beta distribution, with a mode at $\\hat\\alpha_k = n_k/N$ (for $n_k$ counts in the bin, with $N$ total samples).  The posterior standard deviation for $\\alpha_k$ is approximately $\\sqrt{n_k}/N$ (a good approximation when $n_k$ is large and $N\\gg n_k$). The actual formula for the standard deviation is implemented in this function (which appeared in the `two_state_markov.py` module):"
   ]
  },
  {
   "cell_type": "code",
   "execution_count": 15,
   "id": "cd53c923",
   "metadata": {},
   "outputs": [],
   "source": [
    "def sig_alpha(n, ntot):\n",
    "    \"\"\"\n",
    "    Posterior standard deviation of the beta distribution posterior PDF\n",
    "    for  a binomial distribution's parameter, inferred from n successes \n",
    "    out of ntot trials, using a flat prior.\n",
    "\n",
    "    This uses the formula for the standard deviation of a beta dist'n.\n",
    "    \"\"\"\n",
    "    return sqrt((n+1.)*(ntot-n+1.) / (ntot+2.)**2 / (ntot+3.))"
   ]
  },
  {
   "cell_type": "markdown",
   "id": "ec3b5dbf",
   "metadata": {},
   "source": [
    "To use this, we need to know the counts, but `hist` returns the PDF estimate based on the counts, not the counts themselves.\n",
    "\n",
    "It's not hard to reverse the calculation; just make sure you know how many samples are included in the plotted range."
   ]
  },
  {
   "cell_type": "code",
   "execution_count": 16,
   "id": "c95ade1d",
   "metadata": {},
   "outputs": [
    {
     "data": {
      "text/plain": [
       "996.9999999999972"
      ]
     },
     "execution_count": 16,
     "metadata": {},
     "output_type": "execute_result"
    }
   ],
   "source": [
    "l, u = l_u\n",
    "# This gives an array of True/False values indicating\n",
    "# if a sample is in in/out of the interval.\n",
    "inside = (samples >= l) & (samples <= u)\n",
    "n_in = inside.sum()  # True is treated as 1 in boolean sums\n",
    "counts = yvals*dx*n_in\n",
    "counts.sum()"
   ]
  },
  {
   "cell_type": "markdown",
   "id": "a21cc4fd",
   "metadata": {},
   "source": [
    "Alternatively, it's worth noting that NumPy has a `histogram` function that produces the same results as the first two return values of `hist` (except that it gives integer values for raw histograms):"
   ]
  },
  {
   "cell_type": "code",
   "execution_count": 17,
   "id": "8f888e4a",
   "metadata": {},
   "outputs": [
    {
     "data": {
      "text/plain": [
       "1.4068746168049984e-12"
      ]
     },
     "execution_count": 17,
     "metadata": {},
     "output_type": "execute_result"
    }
   ],
   "source": [
    "counts2, bins = histogram(samples, bins=nbins, range=l_u)\n",
    "(counts2-counts).max()  # should be ~ roundoff error"
   ]
  },
  {
   "cell_type": "code",
   "execution_count": 18,
   "id": "3c52857f",
   "metadata": {},
   "outputs": [
    {
     "data": {
      "text/plain": [
       "array([  2.,   5.,   5.,  18.,  36.,  29.,  62.,  71., 103., 122., 112.,\n",
       "       104.,  86.,  90.,  54.,  45.,  22.,  19.,   5.,   4.,   3.])"
      ]
     },
     "execution_count": 18,
     "metadata": {},
     "output_type": "execute_result"
    }
   ],
   "source": [
    "counts"
   ]
  },
  {
   "cell_type": "code",
   "execution_count": 19,
   "id": "1776b772",
   "metadata": {},
   "outputs": [
    {
     "data": {
      "text/plain": [
       "array([  2,   5,   5,  18,  36,  29,  62,  71, 103, 122, 112, 104,  86,\n",
       "        90,  54,  45,  22,  19,   5,   4,   3])"
      ]
     },
     "execution_count": 19,
     "metadata": {},
     "output_type": "execute_result"
    }
   ],
   "source": [
    "counts2"
   ]
  },
  {
   "cell_type": "code",
   "execution_count": 20,
   "id": "2348f3c5",
   "metadata": {},
   "outputs": [],
   "source": [
    "# Use counts to get uncertainties in the bin probabilities:\n",
    "sig_alphas = sig_alpha(counts, nsamp)  # could use n_in here\n",
    "\n",
    "# Those are uncertainties in the per-bin probabilities;\n",
    "# divide by bin width to get uncertainties in the PDF estimates:\n",
    "sig_pdf = sig_alphas/dx"
   ]
  },
  {
   "cell_type": "markdown",
   "id": "f4f2103f",
   "metadata": {},
   "source": [
    "We can use those standard deviations as error bars to communicate the uncertainties in the density histogram's PDF estimates.  This is especially useful to help us interpret structure in the histogram—bumpiness on the scale of 1 to 3 times the size of an error bar is unlikely to be real."
   ]
  },
  {
   "cell_type": "code",
   "execution_count": 21,
   "id": "9f3e35c8",
   "metadata": {},
   "outputs": [
    {
     "data": {
      "image/png": "[encoded data removed]",
      "text/plain": [
       "<Figure size 576x432 with 1 Axes>"
      ]
     },
     "metadata": {
      "needs_background": "light"
     },
     "output_type": "display_data"
    }
   ],
   "source": [
    "yvals, bins, patches = hist(samples, bins=nbins, density=True, range=l_u, alpha=.5)\n",
    "centers = 0.5*(bins[:-1] + bins[1:])  # average of left, right sides\n",
    "errorbar(centers, yvals, yerr=sig_pdf, c='k', ls='')\n",
    "xlabel('$x$')\n",
    "ylabel('PDF estimate');"
   ]
  },
  {
   "cell_type": "markdown",
   "id": "9319e49f",
   "metadata": {},
   "source": [
    "Let's plot one last density histogram, with lots more samples, and showing the true PDF to see how close the estimates are. Note that the true PDF curve is normalized over the whole real line, so if the `hist` histogram omits a significant number of outlying samples, it will be somewhat higher than the true PDF."
   ]
  },
  {
   "cell_type": "code",
   "execution_count": 22,
   "id": "df2a0117",
   "metadata": {},
   "outputs": [
    {
     "data": {
      "image/png": "[encoded data removed]",
      "text/plain": [
       "<Figure size 576x432 with 1 Axes>"
      ]
     },
     "metadata": {
      "needs_background": "light"
     },
     "output_type": "display_data"
    }
   ],
   "source": [
    "# Generate samples\n",
    "nsamp = 10000\n",
    "samples = narrow_norm.rvs(nsamp)\n",
    "\n",
    "# Plot a density histogram.\n",
    "yvals, bins, patches = hist(samples, bins=nbins, density=True, range=l_u, alpha=.5)\n",
    "\n",
    "# Recover the counts in bins.\n",
    "inside = (samples >= l) & (samples <= u)\n",
    "n_in = inside.sum()  # True is treated as 1 in boolean sums\n",
    "counts = yvals*dx*n_in\n",
    "\n",
    "# Use counts to get PDF estimate uncertainties.\n",
    "sig_alphas = sig_alpha(counts, nsamp)  # could use n_in here\n",
    "sig_pdf = sig_alphas/dx\n",
    "\n",
    "# Errorbars:\n",
    "centers = 0.5*(bins[:-1] + bins[1:])  # average of left, right sides\n",
    "errorbar(centers, yvals, yerr=sig_pdf, c='k', ls='')\n",
    "\n",
    "# True PDF:\n",
    "xvals = linspace(l, u, 500)\n",
    "pdf = narrow_norm.pdf(xvals)\n",
    "plot(xvals, pdf, 'b-', lw=3, alpha=.7)\n",
    "\n",
    "# Don't forget this part!\n",
    "xlabel('$x$')\n",
    "ylabel('PDF estimate');"
   ]
  }
 ],
 "metadata": {
  "kernelspec": {
   "display_name": "Python 3 (ipykernel)",
   "language": "python",
   "name": "python3"
  },
  "language_info": {
   "codemirror_mode": {
    "name": "ipython",
    "version": 3
   },
   "file_extension": ".py",
   "mimetype": "text/x-python",
   "name": "python",
   "nbconvert_exporter": "python",
   "pygments_lexer": "ipython3",
   "version": "3.9.7"
  }
 },
 "nbformat": 4,
 "nbformat_minor": 5
}
