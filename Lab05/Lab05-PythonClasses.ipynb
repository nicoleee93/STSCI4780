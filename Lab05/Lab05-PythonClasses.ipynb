{
 "cells": [
  {
   "cell_type": "markdown",
   "metadata": {},
   "source": [
    "# Lab05 — A bit about Python objects, classes, and instances"
   ]
  },
  {
   "cell_type": "markdown",
   "metadata": {},
   "source": [
    "## Objects: classes and instances"
   ]
  },
  {
   "cell_type": "markdown",
   "metadata": {},
   "source": [
    "You're probably aware that most computer languages (particularly those supporting scientific computing) have different **types** of variables, e.g., integers, floating-point numbers (\"floats,\" to represent real numbers), strings, arrays.  Besides holding different kinds of data, different data types also support different types of operations.  Integers and floats support math operations, but strings typically don't. Strings and arrays support indexing, but floats don't.\n",
    "\n",
    "Object-oriented programming (OOP) generalizes the notion of a data type to something more powerful and general called an **object**. \n",
    "\n",
    "An object is a data structure meant to represent something that has both **state** (values stored in memory) and **behavior** (associated functions or operations). It provides a kind of bundle of data and instruction code.\n",
    "\n",
    "Both the state and behavior are accessed via **attributes** of the object—names appended to the object's variable name with a dot separator:  *name.attribute*.\n",
    "\n",
    "There are two types of attributes:\n",
    "* **Data** attributes implement state and are accessed simply by name:"
   ]
  },
  {
   "cell_type": "code",
   "execution_count": 1,
   "metadata": {},
   "outputs": [],
   "source": [
    "from numpy import *  # handy interactively; avoid in reusable modules"
   ]
  },
  {
   "cell_type": "code",
   "execution_count": 2,
   "metadata": {},
   "outputs": [
    {
     "data": {
      "text/plain": [
       "(3,)"
      ]
     },
     "execution_count": 2,
     "metadata": {},
     "output_type": "execute_result"
    }
   ],
   "source": [
    "a = array([0,1,2])\n",
    "a.shape  # returns a list lengths of each dimension of an array"
   ]
  },
  {
   "cell_type": "code",
   "execution_count": 3,
   "metadata": {},
   "outputs": [
    {
     "data": {
      "text/plain": [
       "dtype('int64')"
      ]
     },
     "execution_count": 3,
     "metadata": {},
     "output_type": "execute_result"
    }
   ],
   "source": [
    "a.dtype"
   ]
  },
  {
   "cell_type": "markdown",
   "metadata": {},
   "source": [
    "*Sequence* or *mapping* data are accessed by the *item* interface, i.e., using square brackets and an integer or slice (for a sequence) or a keyword (for a map)."
   ]
  },
  {
   "cell_type": "code",
   "execution_count": 4,
   "metadata": {},
   "outputs": [
    {
     "data": {
      "text/plain": [
       "0"
      ]
     },
     "execution_count": 4,
     "metadata": {},
     "output_type": "execute_result"
    }
   ],
   "source": [
    "a[0]"
   ]
  },
  {
   "cell_type": "code",
   "execution_count": 5,
   "metadata": {},
   "outputs": [
    {
     "data": {
      "text/plain": [
       "array([0, 1])"
      ]
     },
     "execution_count": 5,
     "metadata": {},
     "output_type": "execute_result"
    }
   ],
   "source": [
    "a[0:2]"
   ]
  },
  {
   "cell_type": "code",
   "execution_count": 6,
   "metadata": {},
   "outputs": [
    {
     "name": "stdout",
     "output_type": "stream",
     "text": [
      "The answer is 42\n"
     ]
    }
   ],
   "source": [
    "# A dictionary is a mapping:\n",
    "d = dict(key1=\"hello\", key2=42)\n",
    "print('The answer is', d['key2'])"
   ]
  },
  {
   "cell_type": "markdown",
   "metadata": {},
   "source": [
    "* **Methods** implement behavior and are accessed much like a function call:"
   ]
  },
  {
   "cell_type": "code",
   "execution_count": 8,
   "metadata": {},
   "outputs": [
    {
     "data": {
      "text/plain": [
       "(array([0, 1, 2]), array([ 0, 12,  2]))"
      ]
     },
     "execution_count": 8,
     "metadata": {},
     "output_type": "execute_result"
    }
   ],
   "source": [
    "b = a.copy()  # arrays have a copy() method\n",
    "b[1] = 12\n",
    "a, b"
   ]
  },
  {
   "cell_type": "code",
   "execution_count": 9,
   "metadata": {},
   "outputs": [
    {
     "data": {
      "text/plain": [
       "12"
      ]
     },
     "execution_count": 9,
     "metadata": {},
     "output_type": "execute_result"
    }
   ],
   "source": [
    "b.max()"
   ]
  },
  {
   "cell_type": "code",
   "execution_count": 10,
   "metadata": {},
   "outputs": [
    {
     "name": "stdout",
     "output_type": "stream",
     "text": [
      "[0 1 2] dot [ 0 12  2]\n"
     ]
    },
    {
     "data": {
      "text/plain": [
       "16"
      ]
     },
     "execution_count": 10,
     "metadata": {},
     "output_type": "execute_result"
    }
   ],
   "source": [
    "print(a, 'dot', b)\n",
    "a.dot(b)  # like a vector dot product"
   ]
  },
  {
   "cell_type": "markdown",
   "metadata": {},
   "source": [
    "In Python, pretty much everything is an object and has a directory of attributes (names accessing different resources associated with the object):"
   ]
  },
  {
   "cell_type": "code",
   "execution_count": 11,
   "metadata": {},
   "outputs": [
    {
     "data": {
      "text/plain": [
       "['__abs__',\n",
       " '__add__',\n",
       " '__and__',\n",
       " '__bool__',\n",
       " '__ceil__',\n",
       " '__class__',\n",
       " '__delattr__',\n",
       " '__dir__',\n",
       " '__divmod__',\n",
       " '__doc__',\n",
       " '__eq__',\n",
       " '__float__',\n",
       " '__floor__',\n",
       " '__floordiv__',\n",
       " '__format__',\n",
       " '__ge__',\n",
       " '__getattribute__',\n",
       " '__getnewargs__',\n",
       " '__gt__',\n",
       " '__hash__',\n",
       " '__index__',\n",
       " '__init__',\n",
       " '__init_subclass__',\n",
       " '__int__',\n",
       " '__invert__',\n",
       " '__le__',\n",
       " '__lshift__',\n",
       " '__lt__',\n",
       " '__mod__',\n",
       " '__mul__',\n",
       " '__ne__',\n",
       " '__neg__',\n",
       " '__new__',\n",
       " '__or__',\n",
       " '__pos__',\n",
       " '__pow__',\n",
       " '__radd__',\n",
       " '__rand__',\n",
       " '__rdivmod__',\n",
       " '__reduce__',\n",
       " '__reduce_ex__',\n",
       " '__repr__',\n",
       " '__rfloordiv__',\n",
       " '__rlshift__',\n",
       " '__rmod__',\n",
       " '__rmul__',\n",
       " '__ror__',\n",
       " '__round__',\n",
       " '__rpow__',\n",
       " '__rrshift__',\n",
       " '__rshift__',\n",
       " '__rsub__',\n",
       " '__rtruediv__',\n",
       " '__rxor__',\n",
       " '__setattr__',\n",
       " '__sizeof__',\n",
       " '__str__',\n",
       " '__sub__',\n",
       " '__subclasshook__',\n",
       " '__truediv__',\n",
       " '__trunc__',\n",
       " '__xor__',\n",
       " 'as_integer_ratio',\n",
       " 'bit_length',\n",
       " 'conjugate',\n",
       " 'denominator',\n",
       " 'from_bytes',\n",
       " 'imag',\n",
       " 'numerator',\n",
       " 'real',\n",
       " 'to_bytes']"
      ]
     },
     "execution_count": 11,
     "metadata": {},
     "output_type": "execute_result"
    }
   ],
   "source": [
    "# Even the integer 1 is an object (instance):\n",
    "dir(1)"
   ]
  },
  {
   "cell_type": "code",
   "execution_count": 12,
   "metadata": {},
   "outputs": [
    {
     "data": {
      "text/plain": [
       "1"
      ]
     },
     "execution_count": 12,
     "metadata": {},
     "output_type": "execute_result"
    }
   ],
   "source": [
    "# Ints have methods:\n",
    "i = 1\n",
    "i.bit_length()  # number of bits needed to represent the number"
   ]
  },
  {
   "cell_type": "code",
   "execution_count": 13,
   "metadata": {},
   "outputs": [
    {
     "data": {
      "text/plain": [
       "['__abs__',\n",
       " '__add__',\n",
       " '__bool__',\n",
       " '__ceil__',\n",
       " '__class__',\n",
       " '__delattr__',\n",
       " '__dir__',\n",
       " '__divmod__',\n",
       " '__doc__',\n",
       " '__eq__',\n",
       " '__float__',\n",
       " '__floor__',\n",
       " '__floordiv__',\n",
       " '__format__',\n",
       " '__ge__',\n",
       " '__getattribute__',\n",
       " '__getformat__',\n",
       " '__getnewargs__',\n",
       " '__gt__',\n",
       " '__hash__',\n",
       " '__init__',\n",
       " '__init_subclass__',\n",
       " '__int__',\n",
       " '__le__',\n",
       " '__lt__',\n",
       " '__mod__',\n",
       " '__mul__',\n",
       " '__ne__',\n",
       " '__neg__',\n",
       " '__new__',\n",
       " '__pos__',\n",
       " '__pow__',\n",
       " '__radd__',\n",
       " '__rdivmod__',\n",
       " '__reduce__',\n",
       " '__reduce_ex__',\n",
       " '__repr__',\n",
       " '__rfloordiv__',\n",
       " '__rmod__',\n",
       " '__rmul__',\n",
       " '__round__',\n",
       " '__rpow__',\n",
       " '__rsub__',\n",
       " '__rtruediv__',\n",
       " '__set_format__',\n",
       " '__setattr__',\n",
       " '__sizeof__',\n",
       " '__str__',\n",
       " '__sub__',\n",
       " '__subclasshook__',\n",
       " '__truediv__',\n",
       " '__trunc__',\n",
       " 'as_integer_ratio',\n",
       " 'conjugate',\n",
       " 'fromhex',\n",
       " 'hex',\n",
       " 'imag',\n",
       " 'is_integer',\n",
       " 'real']"
      ]
     },
     "execution_count": 13,
     "metadata": {},
     "output_type": "execute_result"
    }
   ],
   "source": [
    "# A float object:\n",
    "dir(1.)"
   ]
  },
  {
   "cell_type": "code",
   "execution_count": 20,
   "metadata": {},
   "outputs": [
    {
     "name": "stdout",
     "output_type": "stream",
     "text": [
      "Integer-valued? True\n",
      "Hex repn: 0x1.0000000000000p+0\n"
     ]
    }
   ],
   "source": [
    "f = 1.\n",
    "print('Integer-valued?', f.is_integer())\n",
    "?f.hex\n",
    "print('Hex repn:', f.hex())"
   ]
  },
  {
   "cell_type": "markdown",
   "metadata": {},
   "source": [
    "A **class** is like a *template* for creating new objects with a specific set of data and method attributes. In Python, **type** is a synonym for **class** (i.e., every \"data type\"—such as ints and floats—is actually a class, defining both state and behavior for objects created—**instantiated**—using the class)."
   ]
  },
  {
   "cell_type": "code",
   "execution_count": 22,
   "metadata": {},
   "outputs": [],
   "source": [
    "class TwoNumbers:\n",
    "    \"\"\"\n",
    "    A simple container class that doesn't do much:  It stores\n",
    "    two numbers and their product, and provides a method to\n",
    "    raise the product to a power.\n",
    "    \n",
    "    Every class should have a docstring!\n",
    "    \"\"\"\n",
    "    \n",
    "    # \"Magic\" method names have \"__\" on each side and are\n",
    "    # automatically invoked under specific circumstances.\n",
    "    # __init__ is invoked to create an instance of the class.\n",
    "    \n",
    "    def __init__(self, a, b):  # self is an IMPLICIT 1st argument\n",
    "        \"\"\"\n",
    "        Store two numerical values, and their product.\n",
    "        \"\"\"\n",
    "        self.a = a\n",
    "        self.b = b\n",
    "        self.ab = a*b\n",
    "    \n",
    "    def prod_pow(self, n):\n",
    "        \"\"\"\n",
    "        Return the product raised to the power n.\n",
    "        \"\"\"\n",
    "        return self.ab**n"
   ]
  },
  {
   "cell_type": "code",
   "execution_count": 23,
   "metadata": {},
   "outputs": [],
   "source": [
    "tn1 = TwoNumbers(1,2)\n",
    "tn2 = TwoNumbers(3,4)"
   ]
  },
  {
   "cell_type": "code",
   "execution_count": 25,
   "metadata": {},
   "outputs": [
    {
     "data": {
      "text/plain": [
       "(1, 2)"
      ]
     },
     "execution_count": 25,
     "metadata": {},
     "output_type": "execute_result"
    }
   ],
   "source": [
    "tn1.a, tn1.ab"
   ]
  },
  {
   "cell_type": "code",
   "execution_count": 26,
   "metadata": {},
   "outputs": [
    {
     "data": {
      "text/plain": [
       "144"
      ]
     },
     "execution_count": 26,
     "metadata": {},
     "output_type": "execute_result"
    }
   ],
   "source": [
    "tn2.prod_pow(2)"
   ]
  },
  {
   "cell_type": "markdown",
   "metadata": {},
   "source": [
    "Why **self**?\n",
    "\n",
    "The class keeps a single copy of the instructions defining object behavior (methods).\n",
    "\n",
    "**Instantiating** a class creates a new object (an **instance**) based on the class, allocating a unique chunk of memory for that particular object's data, with the chunk pointing back to the class for the methods.  *self* is a label for the instance's data block; it lets the (shared) class method code access the data for a particular instance.\n",
    "\n",
    "This is an example of *explicit is better than implicit* (from that quirky built-in `this`, module—try `import this` if you forgot about it!).  Other object-oriented languages sometimes adopt conventions letting you avoid *self*, but this can be a cause of bugs.\n",
    "\n",
    "Here's a rough picture of how classes and instances are related:\n",
    "\n",
    "![Class and instances](class+instances.png \"Class and instances\")"
   ]
  },
  {
   "cell_type": "markdown",
   "metadata": {},
   "source": [
    "## A simple class:  Production line failure problem"
   ]
  },
  {
   "cell_type": "markdown",
   "metadata": {},
   "source": [
    "Here we do a simple discrete-hypotheses, discrete-data problem much like the coin flipping problem done in Lec04 (with three hypotheses about $\\alpha$, the probability for heads or success).\n",
    "\n",
    "We computed probabilities numerically for that problem in a Jupyter notebook, using (global) variables to store problem info (priors, data), and a function to compute likelihoods. To treat different cases, we modified global variables, and then re-ran the whole notebook, comparing new results to previous ones by memory.\n",
    "\n",
    "Here we'll solve a related problem, but implement the calculations using a Python class. Class instances will serve as isolated \"containers\" that let us handle multiple cases all together in a notebook."
   ]
  },
  {
   "cell_type": "markdown",
   "metadata": {},
   "source": [
    "### Problem setup\n",
    "\n",
    "Consider a production line producing batches of [widgets](https://en.wikipedia.org/wiki/Widget_(economics)) (given recent past events, I'm tempted to use fidget spinners instead of widgets, but I'll resist the temptation!).\n",
    "\n",
    "When the production line works properly (the *nominal* state), it produces widgets with a small defect rate, $\\alpha$ (known from past measurements).\n",
    "\n",
    "Sometimes the production line suffers an internal partial failure on startup, and produces widgets with a larger defect rate, $\\beta$ (also known from past measurements).\n",
    "\n",
    "Historical data indicates that the probability of failure on startup is $f$ (also known).\n",
    "\n",
    "The production line is started and produces a batch of $N$ widgets, $n_d$ of them defective.\n",
    "\n",
    "**_What is the posterior probability that the production line operated in the failure mode?_**"
   ]
  },
  {
   "cell_type": "markdown",
   "metadata": {},
   "source": [
    "### Likelihood function\n",
    "\n",
    "You may have noticed that the problem isn't fully specified. In particular, it's not obvious what rules governed the run producing the data. Here are two possibilities:\n",
    "\n",
    "* Run the line to produce some target number of widgets, $N$. Count the number of defects among those $N$ widgets.\n",
    "* Run the line to meet an order for $m$ good widgets, testing widgets as the line runs.\n",
    "\n",
    "These two production strategies correspond to different likelihood functions:\n",
    "\n",
    "* For the first, $N$ is fixed, and $n_f$ is a random number. You can probably see that the sampling distribution for $n_f$ is a multinomial distribution.\n",
    "* For the second, $m$ is fixed, and $N$ is a random number; the number of failures is $n_f = N-m$.\n",
    "\n",
    "What's the sampling distribution in the second case? For the purpose of determining whether the production line failed, does it matter which strategy was used?"
   ]
  },
  {
   "cell_type": "markdown",
   "metadata": {},
   "source": [
    "### Posterior probabilities\n",
    "\n",
    "Compute the posterior probabilities for $H_0 = $ nominal state and $H_1 =$ failure mode by filling out a probability table like this:\n",
    "\n",
    "| Hypothesis | Prior | Likelihood | Prior $\\times$ Likelihood | Posterior |\n",
    "|------------|-------|------------|---------------------------|-----------|\n",
    "| H_0        |       |            |                           |           |\n",
    "| H_1        |       |            |                           |           |\n",
    "| Sum        | 1     | NA         |                           |     1     |\n",
    "\n",
    "(You'll probably need more room than that—do it on paper or a whiteboard.)\n",
    "\n",
    "The formulas aren't very illuminating, so let's compute the probabilities numerically for various cases.\n",
    "\n",
    "The accompanying Python source file, `machine_failure.py`, can be used as either a script (run at the command line) or a module (imported into other Python code, or a notebook). It defines a Python class doing the necessary calculations in two ways:\n",
    "\n",
    "* Computing probabilities directly;\n",
    "* Computing logarithms of probabilities for intermediate steps.\n",
    "\n",
    "Ideally, these approaches should always give the same results.  But for large samples Bayesian calculations can involve summing and computing ratios of very small probabilities, smaller than floating point precision can represent. So most Bayesian codes work with logarithms of probabilities as much as possible. This won't be important for the cases we'll treat here, but it's good to get used to thinking about log-probabilities for statistical computation."
   ]
  },
  {
   "cell_type": "markdown",
   "metadata": {},
   "source": [
    "Have a look at the file.  It defines a Python class, `MachineFailure`, and some test functions.\n",
    "\n",
    "At the end, it uses the class to run some example cases. These are in a special block indicating these are meant to be computed when the file is run as a script at the command line (with a `python` or `ipython` command), but not when the file is imported as a module.  The block starts like this:\n",
    "\n",
    "```python\n",
    "`if __name__ == '__main__'`:\n",
    "    ...\n",
    "```\n",
    "\n",
    "You can also run scripts in a Jupyter notebook with the `%run` magic command: "
   ]
  },
  {
   "cell_type": "code",
   "execution_count": 31,
   "metadata": {
    "scrolled": true
   },
   "outputs": [
    {
     "name": "stdout",
     "output_type": "stream",
     "text": [
      "MachineFailure instance:\n",
      "  Failure mode probability: 0.100\n",
      "  Defect rates (nominal, failed):  0.010, 0.400\n",
      "  Current data (N, n_f):  6, 2\n",
      "D&S ex. 2.3.9, P(failed|D) = 0.9599761601920319\n",
      "\n",
      "MachineFailure instance:\n",
      "  Failure mode probability: 0.050\n",
      "  Defect rates (nominal, failed):  0.010, 0.100\n",
      "  Current data (N, n_f):  10, 1\n",
      "Notebook example, 1 defect in 10, P(failed|D) = 0.18247840151803582\n",
      "Update to 1 in 50: 0.004907589630595291\n",
      "\n",
      "MachineFailure instance:\n",
      "  Failure mode probability: 0.050\n",
      "  Defect rates (nominal, failed):  0.010, 0.100\n",
      "  Current data (N, n_f):  50, 1\n",
      "All at once: 0.004907589630595291\n"
     ]
    }
   ],
   "source": [
    "%run machine_failure.py"
   ]
  },
  {
   "cell_type": "markdown",
   "metadata": {},
   "source": [
    "The file also includes some functions with names starting with `test_`. These are **unit tests**, simple cases meant to test small pieces of functionality (you encountered them in a previous lab and in Assignment03).\n",
    "\n",
    "There are three tests in the file.  Check out what it is that they test.\n",
    "\n",
    "We can run the tests in the notebook using `!pytest` (which runs `pytest` in a background shell, capturing the output in the notebook)."
   ]
  },
  {
   "cell_type": "code",
   "execution_count": 32,
   "metadata": {
    "scrolled": true
   },
   "outputs": [
    {
     "name": "stdout",
     "output_type": "stream",
     "text": [
      "\u001b[1m============================= test session starts ==============================\u001b[0m\n",
      "platform darwin -- Python 3.9.7, pytest-6.2.5, py-1.10.0, pluggy-1.0.0\n",
      "rootdir: /Volumes/Science/Education/BDA 2022/Labs/Lab05\n",
      "plugins: anyio-2.2.0\n",
      "collected 3 items                                                              \u001b[0m\n",
      "\n",
      "machine_failure.py \u001b[32m.\u001b[0m\u001b[32m.\u001b[0m\u001b[32m.\u001b[0m\u001b[32m                                                   [100%]\u001b[0m\n",
      "\n",
      "\u001b[32m============================== \u001b[32m\u001b[1m3 passed\u001b[0m\u001b[32m in 0.19s\u001b[0m\u001b[32m ===============================\u001b[0m\n"
     ]
    }
   ],
   "source": [
    "!pytest machine_failure.py"
   ]
  },
  {
   "cell_type": "markdown",
   "metadata": {},
   "source": [
    "We can also import `machine_failure` as a module. Here we'll import it and add the `MachineFailure` class to the notebook's namespace (actually, having run the script, it's already here, but this is what you'd do if you didn't want to run the script first)."
   ]
  },
  {
   "cell_type": "code",
   "execution_count": 33,
   "metadata": {},
   "outputs": [],
   "source": [
    "from machine_failure import MachineFailure"
   ]
  },
  {
   "cell_type": "markdown",
   "metadata": {},
   "source": [
    "Use introspection for a reminder of how to use the class; this will explain the meaning of the parameters we set below:"
   ]
  },
  {
   "cell_type": "code",
   "execution_count": 38,
   "metadata": {},
   "outputs": [],
   "source": [
    "MachineFailure?"
   ]
  },
  {
   "cell_type": "markdown",
   "metadata": {},
   "source": [
    "Prepare for cases where the production line fails 10% of the time, with nominal and failure mode defect rates of 1% and 40% (these values are from an example in a popular textbook; the script uses them for a test case, since we know the answer from the book):"
   ]
  },
  {
   "cell_type": "code",
   "execution_count": 39,
   "metadata": {},
   "outputs": [],
   "source": [
    "# Low nominal defect rate of 1%,\n",
    "# hi failure-mode defect rate of 40%,\n",
    "# and 10% chance of failure at startup:\n",
    "mf = MachineFailure(.01, .4, .1)"
   ]
  },
  {
   "cell_type": "markdown",
   "metadata": {},
   "source": [
    "The `update_data` method lets us (cumulatively) introduce $(N,n_f)$ data values, and the `post_failed` method computes the posterior probability the production line is in failure mode.\n",
    "\n",
    "Here we try it with a small sample:"
   ]
  },
  {
   "cell_type": "code",
   "execution_count": 37,
   "metadata": {
    "scrolled": true
   },
   "outputs": [
    {
     "data": {
      "text/plain": [
       "0.9998068964642047"
      ]
     },
     "execution_count": 37,
     "metadata": {},
     "output_type": "execute_result"
    }
   ],
   "source": [
    "mf.update_data(6, 2)  # N, n_f\n",
    "mf.post_failed()"
   ]
  },
  {
   "cell_type": "markdown",
   "metadata": {},
   "source": [
    "So we're pretty sure the production line failed, even with that small sample and even though failure is fairly unlikely, mainly because the failure mode defect rate is so high that it gets obvious quickly when the production line has failed.\n",
    "\n",
    "Lets look at how the probability changes as the sample size grows, when the fraction of failures is fixed near its expected value."
   ]
  },
  {
   "cell_type": "code",
   "execution_count": 40,
   "metadata": {},
   "outputs": [
    {
     "data": {
      "text/plain": [
       "array([[  5.        ,   0.97535454],\n",
       "       [ 10.        ,   0.99992906],\n",
       "       [ 20.        ,   1.        ],\n",
       "       [ 40.        ,   1.        ],\n",
       "       [ 90.        ,   1.        ],\n",
       "       [190.        ,   1.        ]])"
      ]
     },
     "execution_count": 40,
     "metadata": {},
     "output_type": "execute_result"
    }
   ],
   "source": [
    "mf = MachineFailure(.01, .4, .1)\n",
    "\n",
    "# A helper function for running cases with a specified fraction of failures:\n",
    "\n",
    "def const_freq_update(mf, f, N):\n",
    "    \"\"\"\n",
    "    Using a MachineFailure instance, add some data with a specified fraction\n",
    "    of failures, and return the total sample size and the failure mode probability.\n",
    "    \"\"\"\n",
    "    mf.update_data(N, int(f*N))\n",
    "    return mf.N, mf.post_failed()\n",
    "\n",
    "# Gather results adding batches of different sizes using a list comprehension:\n",
    "N_p = [const_freq_update(mf, .4, N) for N in [5, 5, 10, 20, 50, 100]]\n",
    "\n",
    "# That's a list; make it an array, and show it in the notebook:\n",
    "N_p = array(N_p)\n",
    "N_p"
   ]
  },
  {
   "cell_type": "code",
   "execution_count": 43,
   "metadata": {
    "scrolled": true
   },
   "outputs": [
    {
     "data": {
      "text/plain": [
       "(0.0, 1.1)"
      ]
     },
     "execution_count": 43,
     "metadata": {},
     "output_type": "execute_result"
    },
    {
     "data": {
      "image/png": "[encoded data removed]",
      "text/plain": [
       "<Figure size 432x288 with 1 Axes>"
      ]
     },
     "metadata": {
      "needs_background": "light"
     },
     "output_type": "display_data"
    }
   ],
   "source": [
    "# Plot those data.\n",
    "\n",
    "from matplotlib.pyplot import *\n",
    "%matplotlib inline\n",
    "\n",
    "plot(N_p[:,0], N_p[:,1], 'bo-')\n",
    "xlabel('N')\n",
    "ylabel(r'$p_{\\rm failed}$, const freq.')\n",
    "ylim(0., 1.1)"
   ]
  },
  {
   "cell_type": "markdown",
   "metadata": {},
   "source": [
    "That's not a very interesting case!  We basically know right away that the machine failed; continuing to run is rather pointless.\n",
    "\n",
    "Now try a case where the *nominal* defect rate is already pretty high, so it gets harder to distinguish the nominal and failure modes."
   ]
  },
  {
   "cell_type": "code",
   "execution_count": 44,
   "metadata": {},
   "outputs": [
    {
     "data": {
      "text/plain": [
       "array([[5.00000000e+00, 1.10630942e-01],\n",
       "       [1.00000000e+01, 1.22238553e-01],\n",
       "       [2.00000000e+01, 1.48606043e-01],\n",
       "       [4.00000000e+01, 2.15188743e-01],\n",
       "       [9.00000000e+01, 4.58891335e-01],\n",
       "       [1.90000000e+02, 8.90263498e-01]])"
      ]
     },
     "execution_count": 44,
     "metadata": {},
     "output_type": "execute_result"
    }
   ],
   "source": [
    "mf = MachineFailure(.3, .4, .1)\n",
    "N_p = array([const_freq_update(mf, .4, N) for N in [5, 5, 10, 20, 50, 100]])\n",
    "N_p"
   ]
  },
  {
   "cell_type": "code",
   "execution_count": 45,
   "metadata": {},
   "outputs": [
    {
     "data": {
      "text/plain": [
       "(0.0, 1.0)"
      ]
     },
     "execution_count": 45,
     "metadata": {},
     "output_type": "execute_result"
    },
    {
     "data": {
      "image/png": "[encoded data removed]",
      "text/plain": [
       "<Figure size 432x288 with 1 Axes>"
      ]
     },
     "metadata": {
      "needs_background": "light"
     },
     "output_type": "display_data"
    }
   ],
   "source": [
    "plot(N_p[:,0], N_p[:,1], 'bo-')\n",
    "xlabel('N')\n",
    "ylabel(r'$p_{\\rm failed}$, const freq.')\n",
    "ylim(0., 1.)"
   ]
  },
  {
   "cell_type": "markdown",
   "metadata": {},
   "source": [
    "Here, as we run, we only gradually realize that the machine failed at startup."
   ]
  }
 ],
 "metadata": {
  "kernelspec": {
   "display_name": "Python 3 (ipykernel)",
   "language": "python",
   "name": "python3"
  },
  "language_info": {
   "codemirror_mode": {
    "name": "ipython",
    "version": 3
   },
   "file_extension": ".py",
   "mimetype": "text/x-python",
   "name": "python",
   "nbconvert_exporter": "python",
   "pygments_lexer": "ipython3",
   "version": "3.9.7"
  }
 },
 "nbformat": 4,
 "nbformat_minor": 1
}
