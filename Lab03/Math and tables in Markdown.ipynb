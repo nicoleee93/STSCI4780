{
 "cells": [
  {
   "cell_type": "markdown",
   "metadata": {},
   "source": [
    "# Math and tables in Markdown"
   ]
  },
  {
   "cell_type": "markdown",
   "metadata": {},
   "source": [
    "## MathJax\n",
    "\n",
    "This Markdown cell has **math** (math symbols, formulas, equations), written using [*LaTeX*](http://www.latex-project.org/) syntax and rendered in the browser using [*MathJax*](http://www.mathjax.org/) (which [the Cornell Library helped develop as part of Project Euclid!](https://news.cornell.edu/stories/2011/01/new-technology-displays-math-problems-browsers)).\n",
    "\n",
    "For help with LaTeX/MathJax math syntax, see:\n",
    "* [Math Examples — Jupyter Notebook documentation](http://jupyter-notebook.readthedocs.io/en/stable/examples/Notebook/Typesetting%20Equations.html)\n",
    "* [A Primer on Using LaTeX in Jupyter Notebooks | Democratizing Data](https://web.archive.org/web/20181124081941/http://data-blog.udacity.com/posts/2016/10/latex-primer/) — A brief blog post introducing essential notation (Bayes's theorem is an example!)\n",
    "* A short [MathJax tutorial](https://math.meta.stackexchange.com/questions/5020/mathjax-basic-tutorial-and-quick-reference) at the StackExchange MathematicsMeta site\n",
    "* Jim Hefferon's handy cheat-sheet, [LaTeX Math for Undergraduates](https://joshua.smcvt.edu/undergradmath/), available both as a 2-page PDF, and as LaTeX source\n",
    "* A two-page [Quick guide to LaTeX](http://divisbyzero.com/2011/08/17/a-quick-guide-to-latex/) (PDF; useful mainly just for the list of symbols)\n",
    "* A [gentle intro the basics at FluidMind.org](http://fluidmind.org/articles/typesetting-equations/) (just go through the first three sections, through \"Placing Equations on Web Pages\")\n",
    "* The [*AMS Short Math Guide for LaTeX*](https://ctan.org/tex-archive/info/short-math-guide?lang=en) (PDF file); note that not everything described here is implemented in MathJax\n",
    "* The Harvard math department hosts [An introduction to Using TeX](https://legacy-www.math.harvard.edu/texman/); for MathJax use, the \"Commands for Math Mode\" is most relevant\n",
    "\n",
    "Note that equation support is an *extension* to basic Markdown, and not fully standardized.  If you are using a standalone Markdown editor/previewer, or a different browser-based Markdown editor (such as [StackEdit](https://stackedit.io/)), be aware that there are different conventions for how to set off inline and displayed equations in extended Markdown:\n",
    "* [Survey of syntaxes for math in markdown](https://github.com/cben/mathdown/wiki/math-in-markdown)\n",
    "\n",
    "### Examples\n",
    "\n",
    "Here is *Bayes's theorem* for a posterior distribution over a set of hypotheses $\\{H_i\\}$ based on observed data $D$:\n",
    "$$\n",
    "P(H_i|D) = \\frac{P(H_i) P(D|H_i)}{P(D)} \\qquad ||~\\mathcal{C}.\n",
    "$$\n",
    "And, of course, the all-important *LTP*, where $\\{B_j\\}$ is a *suite* (i.e., a mutually exclusive, exhaustive set of alternatives):\n",
    "$$\n",
    "P(H_i) = \\sum_j P(H_i,B_j) = \\sum_j P(B_j) P(H_i|B_j) \\qquad ||~\\mathcal{C}.\n",
    "$$\n",
    "And since it's so important, let's write the LTP with alignment (using the LaTeX *align* environment):\n",
    "\\begin{align}\n",
    "P(H_i)\n",
    "  &= \\sum_j P(H_i,B_j)\\\\\n",
    "  &= \\sum_j P(B_j) P(H_i|B_j) \\qquad ||~\\mathcal{C}.\n",
    "\\end{align}\n",
    "\n",
    "Finally, here's the *generalized beta integral* (a multivariate generalization of the univariate beta integral from Lec05), which will appear in an upcoming lecture on categorical/multinomial inference (I'll use a *split* environment, so I can break the long equation):\n",
    "\\begin{split}\n",
    "\\int_0^\\infty d\\alpha_1 \\cdots \\int_0^\\infty d\\alpha_K\\;\n",
    "  & % ampersand indicates align here\n",
    "  \\alpha_1^{\\kappa_1-1}\\cdots\\alpha_K^{\\kappa_K-1} \\delta\\left(a-\\sum_k\\alpha_k\\right)\\\\  % split!\n",
    "  &= \\frac{\\Gamma(\\kappa_1)\\cdots\\Gamma(\\kappa_K)}{\\Gamma(\\kappa_0)}\\; a^{\\kappa_0-1}\n",
    "\\end{split}\n",
    "where $\\kappa_0 = \\sum_{k=1}^K \\kappa_k$."
   ]
  },
  {
   "cell_type": "markdown",
   "metadata": {},
   "source": [
    "## Tables"
   ]
  },
  {
   "cell_type": "markdown",
   "metadata": {},
   "source": [
    "This Markdown cell has a table.  To automatically generate nice-looking Markdown table markup, I used\n",
    "[TablesGenerator](http://www.tablesgenerator.com/markdown_tables).  This table could hold ingredients for calculating the posterior PMF for the Monty Hall problem:\n",
    "\n",
    "| Hypothesis | Prior | Likelihood | Prior $\\times$ Likelihood | Posterior |\n",
    "|------------|-------|------------|---------------------------|-----------|\n",
    "| A          |       |            |                           |           |\n",
    "| B          |       |            |                           |           |\n",
    "| C          |       |            |                           |           |\n",
    "| Sum        | 1     | NA         |                           |     1     |\n",
    "\n",
    "***Danger, Will Robinson!*** There is currently a bug in the Jupyter Markdown renderer, such that if you put MathJax math in a table, the table is rendered with full width, and awkward column widths (but not always; experiment if you dare; it seems the problem is mainly with MathJax in headings). The following two tables are the same in Markdown, except that in the second the $A$ symbol uses MathJax and triggers the Jupyter bug (*note*: the notebook renderer on GitHub does not have the bug, so you won't see any problem if you examine this notebook only on GitHub). Lesson: *Beware of MathJax in Markdown tables* (for now).\n",
    "\n",
    "| A | not A |\n",
    "|-----|-----|\n",
    "| 0   | 1   |\n",
    "| 1   | 0   |\n",
    "\n",
    "| $A$ | not $A$ |\n",
    "|-----|-----|\n",
    "| 0   | 1   |\n",
    "| 1   | 0   |"
   ]
  }
 ],
 "metadata": {
  "kernelspec": {
   "display_name": "Python 3 (ipykernel)",
   "language": "python",
   "name": "python3"
  },
  "language_info": {
   "codemirror_mode": {
    "name": "ipython",
    "version": 3
   },
   "file_extension": ".py",
   "mimetype": "text/x-python",
   "name": "python",
   "nbconvert_exporter": "python",
   "pygments_lexer": "ipython3",
   "version": "3.9.7"
  }
 },
 "nbformat": 4,
 "nbformat_minor": 1
}
