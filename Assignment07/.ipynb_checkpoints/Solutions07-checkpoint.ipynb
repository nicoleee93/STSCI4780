{
 "cells": [
  {
   "cell_type": "markdown",
   "metadata": {},
   "source": [
    "# Solutions 07\n",
    "\n",
    "**Due:** 2022-04-01, 11:59 PM, as a Jupyter notebook (with related files) submitted via your repo in the course GitHub organization.  Use the solutions template notebook, and **be sure not to modify the subproblem cells** in your solution file.\n",
    "\n",
    "The BVNDemo notebook should *not* be included with your submitted solutions.\n",
    "\n",
    "**Note that Problem 3 is for 5780 students only.**"
   ]
  },
  {
   "cell_type": "markdown",
   "metadata": {
    "tags": [
     "problem=1",
     "points=3"
    ]
   },
   "source": [
    "### Problem 1 (3 points):\n",
    "\n",
    "* Add new methods to the `BivariateNormal` class, `y_x_pdf(self, x, yvals)` and `x_y_pdf(self, y, xvals)`, that evaluate the conditional PDFs for $y$ given $x$ and $x$ given $y$ (respectively), on an array of values of the target variable given the conditioning variable.\n",
    "* In the notebook, write a function `plot_bvn_rho_cond(rho, x)` that plots a standard BVN distribution with correlation coefficient `rho`, the same way the `plot_rho` function in the `bvn` module does.  In addition, it should plot a vertical line on the plot at `x`, and, in a separate set of axes, plot the conditional PDF for $y$ given $x$ with the specified `x` value.\n",
    "There is more than one good way to do this, and depending on how you implement it, you may condition on $y$ instead of $x$ if that makes your plot look better.\n",
    "* Using your new function, create an interactive widget that displays the joint and conditional PDFs with sliders controlling `rho` and `x`."
   ]
  },
  {
   "cell_type": "code",
   "execution_count": 27,
   "metadata": {},
   "outputs": [],
   "source": [
    "from bvn import BivariateNormal, plot_bvn, plot_new_bvn\n",
    "import numpy as np\n",
    "import scipy\n",
    "import matplotlib as mpl\n",
    "from matplotlib.pyplot import *\n",
    "from numpy import *\n",
    "from scipy import stats\n",
    "from scipy.stats import multivariate_normal\n",
    "from scipy.stats import norm\n",
    "\n",
    "def plot_bvn_rho_cond(rho, x):\n",
    "    bvn = BivariateNormal([0,0], [1,1],rho)\n",
    "    fig = figure(figsize=(12,6))\n",
    "    xyvals = bvn.sample(1000)\n",
    "    # Use mpl's GridSpec capability, via the subplot2grid() helper function,\n",
    "    # to put axes in the figure; see: http://matplotlib.org/users/gridspec.html\n",
    "    # Use the sharex, sharey arguments to link axes.\n",
    "    xy_ax = subplot2grid((1,2), (0, 0))\n",
    "    #x_ax = subplot2grid((3,3), (0,0), colspan=2, sharex=xy_ax)\n",
    "    y_ax = subplot2grid((1,2), (0, 1))\n",
    "\n",
    "    #setp(x_ax.get_xticklabels(), visible=False)  # hide x labels on top axes\n",
    "    setp(y_ax.get_yticklabels(), visible=False)  # hide y labels on right axes\n",
    "\n",
    "    # Plot the samples in xyvals as a scatterplot.\n",
    "    xy_ax.scatter(xyvals[:,0], xyvals[:,1], edgecolors='none', alpha=0.4)  # scatter plot in x,y axes\n",
    "    # Plot a vertival line at x\n",
    "    xy_ax.axvline(x)\n",
    "    # Plot contours of the joint PDF.\n",
    "    plot_bvn(xy_ax, bvn)\n",
    "\n",
    "    # Plot histograms in the margins.\n",
    "    #x_ax.plot(xyvals[:,0],bvn.y_x_pdf(xyvals[:,0]),'-') # x histo on top\n",
    "    y_ax.plot(bvn.y_x_pdf(x,unique(xyvals[:,1])),unique(xyvals[:,1]))  # y histo on side\n",
    "\n",
    "    # Label axes!\n",
    "    xy_ax.set_xlabel('$x$')\n",
    "    xy_ax.set_ylabel('$y$')\n",
    "    #x_ax.set_ylabel('Counts')\n",
    "    y_ax.set_xlabel('P(y|x)')\n",
    "    y_ax.set_ylabel('y')\n",
    "    \n",
    "\n"
   ]
  },
  {
   "cell_type": "code",
   "execution_count": 2,
   "metadata": {},
   "outputs": [
    {
     "data": {
      "application/vnd.jupyter.widget-view+json": {
       "model_id": "e48d1ab8472b49dc82a704e9734094d3",
       "version_major": 2,
       "version_minor": 0
      },
      "text/plain": [
       "interactive(children=(FloatSlider(value=0.0, description='rho', max=0.95, min=-0.95), FloatSlider(value=0.0, d…"
      ]
     },
     "metadata": {},
     "output_type": "display_data"
    }
   ],
   "source": [
    "from IPython.display import clear_output, display, HTML\n",
    "import ipywidgets as widgets\n",
    "from ipywidgets import interact, interactive, fixed, interact_manual\n",
    "\n",
    "widget = interactive(plot_bvn_rho_cond, rho=(-.95, .95),x=(-4., 4.))\n",
    "display(widget)"
   ]
  },
  {
   "cell_type": "markdown",
   "metadata": {
    "tags": [
     "problem=2.1",
     "points=2"
    ]
   },
   "source": [
    "### Problem 2.1 (2 points)\n",
    "\n",
    "Write a function named `plot_bvn_samples` in the notebook that takes a BVN instance as input, and does the following:\n",
    "* Draw `n` samples from the BVN (using its `sample` method)\n",
    "* Plot the samples as a 2D scatterplot.\n",
    "* Evaluate the BVN PDF for the samples.\n",
    "* Use the PDF values to plot 3 contours (in the same plot), with contour levels chosen to bound HPD regions with probability 50%, 75%, and 90%.\n",
    "* Return an array containing the sample values.\n",
    "\n",
    "Use the function to make one plot in the notebook, for your chosen BVN distribution, using at least a few hundred samples (choosing the point size and opacity appropriately so that the scatterplot is visually informative).\n",
    "\n",
    "***Hint:*** You may copy the `plot_bvn` function in the `bvn.py` module to use as a starting point; it does most of the work for you! You may have your function generate the plot from scratch, or take axes as input (as the `plot_bvn` function does). Eliminate any unnecessary code from `plot_bvn` (e.g., plotting regressioin lines). Your function should be *simpler* than `plot_bvn`, except for the part computing the PDF values and the contour levels."
   ]
  },
  {
   "cell_type": "code",
   "execution_count": 176,
   "metadata": {},
   "outputs": [],
   "source": [
    "def plot_bvn_samples(bvn,n):\n",
    "    \"\"\"\n",
    "    Plot a bivariate normal distribution specified by BivariateNormal instance\n",
    "    `bvn`, including contours of its PDF and regression lines (with conditional \n",
    "    standard deviations).\n",
    "\n",
    "    Parameters\n",
    "    ----------\n",
    "    ax : mpl axes instance\n",
    "        The axes to use for the plot\n",
    "\n",
    "    bvn : BivariateNormal instance\n",
    "        A bvn instance defining the BVN to plot\n",
    "\n",
    "    rlines : boolean\n",
    "        If True, plot the y|x and x|y regression lines\n",
    "\n",
    "    regress : float\n",
    "        If nonzero, vertical and horizontal lines are plotted illustrating\n",
    "        regression to the mean for x = `regress * sig_x`\n",
    "\n",
    "    samples : int\n",
    "        If nonzero, `samples` samples from the BVN are plotted\n",
    "    \"\"\"\n",
    "    fig = figure(figsize=(8,8))\n",
    "    ax = axes()\n",
    "\n",
    "    # Draw n samples:\n",
    "    samples=bvn.sample(n)\n",
    "    xvals=samples[:,0]\n",
    "    yvals = samples[:,1]\n",
    "    ax.scatter(xvals, yvals, c='r', linewidths=0, alpha=.4)\n",
    "    bvn_sorted=bvn.pdf(samples)\n",
    "    bvn_sorted.sort()\n",
    "    h50=bvn_sorted[int(0.5*n)]\n",
    "    h75=bvn_sorted[int(0.25*n)]\n",
    "    h90=bvn_sorted[int(0.1*n)]\n",
    "    x, y, xg, yg, xyg = bvn.xy_grid(100)\n",
    "    cont=ax.contour(xg, yg, bvn.pdf(xyg), [h90,h75,h50], colors=['b', 'g', 'r'])\n",
    "    clabel(cont, inline=1, fontsize=10)\n",
    "    # Evaluate the BVN PDF for the samples.\n",
    "      # values relative to the peak\n",
    "\n",
    "    # Important to have the right aspect ratio!  Otherwise the symmetry axis\n",
    "    # will appear incorrect.\n",
    "    ax.set_xlim(x[0], x[-1])\n",
    "    ax.set_ylim(y[0], y[-1])\n",
    "    #aspect = bvn.sigs[0]/bvn.sigs[1]\n",
    "    #ax.set_aspect(aspect)\n",
    "    show()\n",
    "    return samples"
   ]
  },
  {
   "cell_type": "code",
   "execution_count": 178,
   "metadata": {},
   "outputs": [
    {
     "data": {
      "image/png": "[encoded data removed]",
      "text/plain": [
       "<Figure size 576x576 with 1 Axes>"
      ]
     },
     "metadata": {
      "needs_background": "light"
     },
     "output_type": "display_data"
    },
    {
     "data": {
      "text/plain": [
       "array([[ 1.48690524,  0.00675804],\n",
       "       [-0.86444269, -1.34817506],\n",
       "       [ 0.72325592,  1.09560822],\n",
       "       [ 1.96114529,  1.81121123],\n",
       "       [-0.05269345,  0.19052341],\n",
       "       [ 0.64993221, -0.16819471],\n",
       "       [ 0.0090646 ,  0.97902765],\n",
       "       [ 1.30932341,  1.96880432],\n",
       "       [ 0.46462807,  0.67853031],\n",
       "       [-0.07842825, -0.53296586],\n",
       "       [-0.83230144, -0.95066066],\n",
       "       [-0.52693833, -0.00747975],\n",
       "       [-1.88806649, -1.3528088 ],\n",
       "       [ 0.65957893, -0.50035038],\n",
       "       [ 2.04574851,  2.04082653],\n",
       "       [ 1.44567446,  1.65812387],\n",
       "       [ 0.97540465,  1.61753347],\n",
       "       [ 0.70577984, -0.55810466],\n",
       "       [-0.64792362,  0.34904521],\n",
       "       [-1.22250166, -0.45861891],\n",
       "       [ 0.8309547 ,  1.13402275],\n",
       "       [-0.88178361, -0.37292788],\n",
       "       [ 1.64629482,  0.84917047],\n",
       "       [-1.12060383, -1.2900964 ],\n",
       "       [ 0.86463734,  1.63702338],\n",
       "       [ 0.85451738,  0.5492988 ],\n",
       "       [-0.14857537, -0.34185678],\n",
       "       [-2.43719448, -1.93517318],\n",
       "       [ 1.11657846,  0.94533207],\n",
       "       [-1.29093049,  0.33050502],\n",
       "       [ 0.30878874,  0.37567147],\n",
       "       [-0.37226045, -0.02448808],\n",
       "       [ 0.98595831,  0.20895338],\n",
       "       [-0.59167738,  1.20924622],\n",
       "       [-2.01251523, -1.78291903],\n",
       "       [-0.76771874, -1.34330697],\n",
       "       [ 0.60842358,  0.28592569],\n",
       "       [ 2.78878584,  2.46651504],\n",
       "       [-1.89234587,  0.00709399],\n",
       "       [ 1.15224843,  0.94819557],\n",
       "       [-0.9969406 , -0.88245633],\n",
       "       [ 2.12234352,  0.34932575],\n",
       "       [-1.66629062, -0.89896741],\n",
       "       [-1.69044534, -1.65660528],\n",
       "       [-0.56055537, -0.15865599],\n",
       "       [ 0.29258999,  1.16086853],\n",
       "       [-0.89985863, -0.72279451],\n",
       "       [ 0.2363268 ,  0.98569675],\n",
       "       [-0.71333356, -0.847836  ],\n",
       "       [-0.00385444, -1.25929261],\n",
       "       [ 1.33705593,  0.98714497],\n",
       "       [-2.57445142, -2.25674818],\n",
       "       [ 0.92932834,  1.5269876 ],\n",
       "       [ 1.12379469,  0.19462867],\n",
       "       [ 0.1898474 , -0.19144151],\n",
       "       [ 0.32289321,  0.08042073],\n",
       "       [-0.92988513, -0.78746489],\n",
       "       [-0.26345574, -1.68300428],\n",
       "       [ 0.19585522,  0.10612599],\n",
       "       [-0.14295912,  0.17872434],\n",
       "       [ 1.10007015,  1.58760377],\n",
       "       [-1.36844875, -1.23809522],\n",
       "       [ 0.25679129, -1.63703287],\n",
       "       [ 0.04811007,  0.04347252],\n",
       "       [-1.59094614, -1.40206578],\n",
       "       [ 0.04666824,  0.56919708],\n",
       "       [ 1.03618384,  1.46459807],\n",
       "       [-0.43880192, -0.26148899],\n",
       "       [ 0.22125919, -0.34423414],\n",
       "       [-0.13520333,  0.15879274],\n",
       "       [-0.73110567,  0.33239495],\n",
       "       [-0.72320453, -0.31213794],\n",
       "       [ 1.06556219, -0.51392498],\n",
       "       [-1.93185292, -1.70319881],\n",
       "       [ 0.70136561, -0.13295883],\n",
       "       [-0.60089034, -2.32623434],\n",
       "       [-2.61796808, -1.64776607],\n",
       "       [-1.17748167,  0.49160667],\n",
       "       [-0.07976949,  0.50297683],\n",
       "       [-0.05271675, -0.53530197],\n",
       "       [ 0.47218746,  0.58635026],\n",
       "       [-0.06675611,  1.25527132],\n",
       "       [-1.06477981, -2.85592365],\n",
       "       [ 2.04092545,  1.36503736],\n",
       "       [ 0.35653649, -0.48318008],\n",
       "       [-0.64776485, -0.18613989],\n",
       "       [ 1.0638654 ,  0.91044405],\n",
       "       [ 0.9296475 , -0.09539613],\n",
       "       [-0.75773367,  0.17253602],\n",
       "       [ 1.86427095,  1.79912625],\n",
       "       [-0.92773417, -1.25946431],\n",
       "       [ 0.14581387,  0.72449781],\n",
       "       [-0.95443844, -0.60197242],\n",
       "       [ 0.38697342, -0.76935783],\n",
       "       [-0.03915708, -0.75365857],\n",
       "       [-0.36592401, -0.10114779],\n",
       "       [-0.70148091,  0.02946729],\n",
       "       [ 1.14856313,  0.75279725],\n",
       "       [-0.93964803, -0.4736901 ],\n",
       "       [-0.69776731,  0.16136828],\n",
       "       [ 0.36058825, -0.82843613],\n",
       "       [ 1.33649185,  1.2070775 ],\n",
       "       [ 0.72801276,  0.61237311],\n",
       "       [ 0.81068641,  0.08853756],\n",
       "       [-0.23010002,  0.13963416],\n",
       "       [-0.2692062 , -0.02951378],\n",
       "       [-0.29798962, -0.37674326],\n",
       "       [-0.84018159, -0.66037403],\n",
       "       [ 1.1794518 ,  0.79681623],\n",
       "       [ 0.35874705, -0.03553588],\n",
       "       [-1.42332535, -0.98663516],\n",
       "       [ 1.72933654,  0.83390334],\n",
       "       [-0.42170672, -0.34647987],\n",
       "       [-2.04806788, -1.42398212],\n",
       "       [ 0.84850936,  1.82997921],\n",
       "       [-1.23234602, -1.69066834],\n",
       "       [ 1.30356815,  0.39757842],\n",
       "       [-0.56038287,  1.04336428],\n",
       "       [ 1.40342017,  1.93028122],\n",
       "       [-0.21579702, -0.91819054],\n",
       "       [-0.24397273, -0.41751761],\n",
       "       [ 0.43990027,  1.02001749],\n",
       "       [ 1.77137103,  1.47428665],\n",
       "       [ 0.41233553,  1.32817977],\n",
       "       [ 0.1056037 ,  0.67316799],\n",
       "       [-1.49835958, -1.99622974],\n",
       "       [ 0.06258822, -0.57339645],\n",
       "       [-0.98228024, -1.29622488],\n",
       "       [ 0.10957695,  0.04694644],\n",
       "       [ 1.92131887,  1.66296336],\n",
       "       [ 2.3056487 ,  1.14027786],\n",
       "       [ 0.81769788,  0.47667816],\n",
       "       [ 0.48980671,  1.01775258],\n",
       "       [ 0.26377732,  0.11760805],\n",
       "       [-0.58677723, -0.89829005],\n",
       "       [-0.13157786, -0.28607298],\n",
       "       [ 0.97368817,  0.63626866],\n",
       "       [-2.02203052, -0.55478871],\n",
       "       [ 1.83937395,  1.05830006],\n",
       "       [ 0.4361952 ,  0.47728182],\n",
       "       [ 0.40911   , -0.51568114],\n",
       "       [ 0.58550534, -0.33026618],\n",
       "       [ 1.85035416,  1.51361167],\n",
       "       [-0.43182312, -0.38378649],\n",
       "       [ 0.01390785, -0.3983014 ],\n",
       "       [-1.15446631, -1.85392895],\n",
       "       [-0.05808307, -1.10618378],\n",
       "       [-0.66912503,  0.40202944],\n",
       "       [-0.11968348, -0.74638894],\n",
       "       [ 1.34103287,  0.82328392],\n",
       "       [ 1.66144301, -0.02393362],\n",
       "       [-1.56724473, -1.18464489],\n",
       "       [ 1.24056193,  0.53256187],\n",
       "       [ 2.10144413,  2.44606693],\n",
       "       [ 0.03117763,  0.02119731],\n",
       "       [-1.36693906, -0.68636128],\n",
       "       [-1.54678019,  0.14296932],\n",
       "       [-1.65968347, -0.65361695],\n",
       "       [ 0.02583827, -0.05124303],\n",
       "       [ 0.79751969, -0.07761001],\n",
       "       [ 2.23394941,  0.26998798],\n",
       "       [ 0.02824696, -0.39067744],\n",
       "       [ 0.09788752,  1.04496834],\n",
       "       [ 0.82299942,  1.96402623],\n",
       "       [ 0.45223999, -0.22759269],\n",
       "       [-0.32469798, -0.39423626],\n",
       "       [-1.24121795, -0.63574607],\n",
       "       [ 0.50004654, -0.43205783],\n",
       "       [ 1.34340931,  1.7061298 ],\n",
       "       [-1.5820947 , -1.25950326],\n",
       "       [ 1.4773686 ,  0.90087903],\n",
       "       [ 2.13478073,  0.90339934],\n",
       "       [-1.00003985, -2.08480683],\n",
       "       [ 0.86083856,  0.24411372],\n",
       "       [ 0.03667697, -0.21474197],\n",
       "       [-0.70618507, -0.91926323],\n",
       "       [ 0.59592018,  1.1486783 ],\n",
       "       [ 0.1227824 , -0.5736254 ],\n",
       "       [ 0.70329252,  1.10141199],\n",
       "       [-0.62032112, -0.02115438],\n",
       "       [-3.69921066, -1.64225027],\n",
       "       [-0.57519963, -1.40257577],\n",
       "       [-2.3423067 , -1.80396999],\n",
       "       [-0.26518789, -0.48958683],\n",
       "       [ 1.21686354,  0.26504777],\n",
       "       [-0.14314232, -0.57979964],\n",
       "       [-0.50771576, -0.22769561],\n",
       "       [ 1.4433071 ,  1.36463759],\n",
       "       [-1.42897401, -1.30465682],\n",
       "       [-0.39700472,  0.08716431],\n",
       "       [-0.95012112,  0.88745695],\n",
       "       [ 0.71049217,  0.52722404],\n",
       "       [ 0.67039805,  1.2162644 ],\n",
       "       [-0.57352589,  0.23174435],\n",
       "       [-0.10220477, -0.64435991],\n",
       "       [-0.76763963, -0.46370776],\n",
       "       [ 0.23446804, -0.25823023],\n",
       "       [ 1.04474678,  1.34457176],\n",
       "       [ 0.69052064,  0.38355222],\n",
       "       [ 1.05038946,  1.36364904]])"
      ]
     },
     "execution_count": 178,
     "metadata": {},
     "output_type": "execute_result"
    }
   ],
   "source": [
    "bvn = BivariateNormal([0,0], [1,1],0.7)\n",
    "plot_bvn_samples(bvn,200) "
   ]
  },
  {
   "cell_type": "markdown",
   "metadata": {
    "tags": [
     "problem=2.2",
     "points=2"
    ]
   },
   "source": [
    "### Problem 2.2 (2 points)\n",
    "\n",
    "Use the samples returned from your `plot_bvn_samples` function in Problem 2.2 to compute the following summaries of the BVN distribution:\n",
    "* Compute the mean and standard deviation of both $x$ and $y$. Print them in the notebook (with appropriate precision), along with the true values.\n",
    "* Use the samples to plot a histogram estimate of $p(x)$, the marginal distribution for $x$. Include error bars on the plot (indicating 1-standard-deviation uncertainties). On the same figure, plot a curve showing the actual (normal) marginal distribution.\n",
    "\n",
    "***Hint:*** For the histogram error bars, you may use a simple \"root-$n$\" estimate for the uncertainty. Alternatively, the `sig_alpha` function in the Assignment06 `two_state_markov.py` module could be used to get somewhat more accurate error bars, as is done in the `TwoStateMarkovChain` class in that module."
   ]
  },
  {
   "cell_type": "code",
   "execution_count": 157,
   "metadata": {},
   "outputs": [
    {
     "name": "stdout",
     "output_type": "stream",
     "text": [
      "Estimated values(True values):\n",
      "mean of x: 0.0081 (0)\n",
      "standard deviationof x: 1.0585 (1)\n",
      "mean of y: 0.009 (0)\n",
      "standard deviationof y: 0.9729 (1)\n"
     ]
    }
   ],
   "source": [
    "bvn = BivariateNormal([0,0], [1,1],0.5)\n",
    "samples=bvn.sample(500)\n",
    "x=samples[:,0]\n",
    "print('Estimated values(True values):')\n",
    "print('mean of x:',round(mean(x),4),'(0)')\n",
    "print('standard deviationof x:',round(std(x),4),'(1)')\n",
    "\n",
    "y=samples[:,1]\n",
    "\n",
    "print('mean of y:',round(mean(y),4),'(0)')\n",
    "print('standard deviationof y:',round(std(y),4),'(1)')"
   ]
  },
  {
   "cell_type": "code",
   "execution_count": 179,
   "metadata": {},
   "outputs": [
    {
     "data": {
      "text/plain": [
       "<ErrorbarContainer object of 3 artists>"
      ]
     },
     "execution_count": 179,
     "metadata": {},
     "output_type": "execute_result"
    },
    {
     "data": {
      "image/png": "[encoded data removed]",
      "text/plain": [
       "<Figure size 432x288 with 1 Axes>"
      ]
     },
     "metadata": {
      "needs_background": "light"
     },
     "output_type": "display_data"
    }
   ],
   "source": [
    "x0=linspace(-4,4,500)\n",
    "y0=norm.pdf(x0,0,1)\n",
    "plot(x0,y0)\n",
    "n, bins, patches =hist(x, bins=10,density=True,alpha=0.6)\n",
    "##density = counts / (sum(counts) * np.diff(bins))\n",
    "counts=n * np.diff(bins)*500\n",
    "mid = 0.5*(bins[1:] + bins[:-1])\n",
    "errorbar(mid, n, yerr=sqrt(counts)/(500*np.diff(bins)),fmt='none',capsize=5)"
   ]
  },
  {
   "cell_type": "markdown",
   "metadata": {
    "tags": [
     "problem=3.1",
     "points=3",
     "5780"
    ]
   },
   "source": [
    "### Problem 3.1 (3 points):\n",
    "\n",
    "Add two methods to the `BivariateNormal` class that directly, exactly sample from the (full) conditional PDFs for each variable, `x` and `y` (they're both normal PDFs):\n",
    "\n",
    "* Write a method `y_x_sample(self, x)` that returns a single $y$ sample from the conditional distribution $p(y|x)$.\n",
    "* Write a method `x_y_sample(self, y)` that returns a single $x$ sample from the conditional distribution $p(x|y)$.\n",
    "* Plot a BVN example with nonzero $\\rho$ (using `plot_bvn`), including a vertical and horizontal line indicating a selection of an $x$ and $y$ value (your choice) for which you'll plot conditional distributions (for the complementary variable).  Produce two more plots (corresponding to the chosen $x$ and $y$), each with a smooth curve showing the conditional PDF, and a histogram of a few hundred samples from your samplers.  Produce these in a multipanel plot, with the conditional PDF plots oriented appropriately around the joint PDF plot."
   ]
  },
  {
   "cell_type": "markdown",
   "metadata": {
    "tags": [
     "problem=3.2",
     "points=4",
     "5780"
    ]
   },
   "source": [
    "### Problem 3.2 (4 points):\n",
    "\n",
    "Implement the Gibbs sampler, demonstrating its operation twice, with modestly and highly correlated BVN cases, as specified below.  You don't need to do any special multipanel plotting for this problem.\n",
    "\n",
    "* Write a function `gibbs(bvn, n)` that takes a `BivariateNormal` instance, `bvn`, and an integer, `n`, and returns a list (or array) of (x,y) pairs sampled from `bvn` using the Gibbs sampling algorithm, with random selection of which variable to update on each iteration.\n",
    "* Use your function to sample a few hundred points from a BVN case with $\\rho=1/2$.  Produce three plots showing the samples:  one based upon a `plot_bvn` plot, showing the sample path in the $(x,y)$ plane, and two other trace plots showing the $x$ and $y$ sample paths.\n",
    "* Do the same thing, but now for a BVN case with $\\rho=0.97$.\n",
    "* In a Markdown cell, briefly comment on how the Gibbs sampler behaves in the two cases."
   ]
  }
 ],
 "metadata": {
  "celltoolbar": "Tags",
  "kernelspec": {
   "display_name": "Python 3 (ipykernel)",
   "language": "python",
   "name": "python3"
  },
  "language_info": {
   "codemirror_mode": {
    "name": "ipython",
    "version": 3
   },
   "file_extension": ".py",
   "mimetype": "text/x-python",
   "name": "python",
   "nbconvert_exporter": "python",
   "pygments_lexer": "ipython3",
   "version": "3.8.5"
  }
 },
 "nbformat": 4,
 "nbformat_minor": 2
}
