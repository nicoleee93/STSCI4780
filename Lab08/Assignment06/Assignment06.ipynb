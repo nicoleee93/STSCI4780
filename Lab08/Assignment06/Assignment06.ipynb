{
 "cells": [
  {
   "cell_type": "markdown",
   "metadata": {},
   "source": [
    "# Assignment 06\n",
    "\n",
    "**Due:** 2020-03-24, 11:59 PM, as an IPython notebook (with related files) submitted via your repo in the course GitHub organization.  Use the solutions template notebook, and **be sure not to modify the subproblem cells** in your solution file (put your work in *new* cells)."
   ]
  },
  {
   "cell_type": "markdown",
   "metadata": {},
   "source": [
    "## 1. Two-state Markov chains\n",
    "\n",
    "In this part of the assignment, you'll study the behavior of two-state Markov chains, analytically and empirically, to build some intuition about the behavior of Markov chains.\n",
    "\n",
    "Accompanying this notebook you'll find a module, `two_state_markov.py`, defining a class, `TwoStateMarkovChain` that you will use for this assignment.  There is also a script, `TwoStateExample.py` that demonstrates use of this class."
   ]
  },
  {
   "cell_type": "markdown",
   "metadata": {
    "tags": [
     "problem=1.1",
     "points=2"
    ]
   },
   "source": [
    "### Problem 1.1 (2 points):\n",
    "\n",
    "Consider a two-state homogeneous Markov chain; let's label the states with the integers 0 and 1.  Suppose the probability for a transition from state 0 to state 1 is $\\alpha$, and that for a transition from state 1 to state 0 is $\\beta$ (note that these definitions differ from those used in Lec13).\n",
    "\n",
    "> * Write down the transition matrix defining this Markov chain (using MathJax matrix notation).\n",
    "> * Derive the equillibrium distribution PMF from the transition matrix. You should find that it has the following probabilities for states 0 and 1, respectively:\n",
    "\\begin{align}\n",
    "p_0 &= \\frac{\\beta}{\\alpha + \\beta},\\\\\n",
    "p_1 &= \\frac{\\alpha}{\\alpha + \\beta}.\\\\\n",
    "\\end{align}"
   ]
  },
  {
   "cell_type": "markdown",
   "metadata": {
    "tags": [
     "problem=1.2",
     "points=3"
    ]
   },
   "source": [
    "### Problem 1.2 (3 points):\n",
    "\n",
    "A `TwoStateMarkovChain` class is provided for you in the `two_state_markov.py` Python module. Use `TwoStateMarkovChain` in your solution notebook to explore the behavior of two-state chains, creating instances for chains and plotting the behavior of multiple sample paths using the `plot_evol()` method.\n",
    "\n",
    "> * Create a chain with $(\\alpha,\\beta) = (0.07,0.03)$, and an initializer that starts **out of equillibrium**.  Simulate sample paths that illustrate convergence of the chain to equillibrium, i.e., with the evolution plot clearly showing out-of-equillibrium behavior at early times.\n",
    "> * Using the same $(\\alpha,\\beta)$, show that the equillibrium distribution really is an equillibrium distribution by simulating paths **initialized from the equillibrium distribution**, and showing that the distribution is maintained.\n",
    "> * Using paths of the same length that you used above, create **two** new chains, with the same equillibrium distribution, one of which converges so slowly that equillibrium is not reached, and one that converges more quickly than the $(0.07,0.03)$ chain."
   ]
  },
  {
   "cell_type": "markdown",
   "metadata": {},
   "source": [
    "## 2. Random-walk Metropolis (RWM) for `UnivariateBayesianInference`\n",
    "\n",
    "Accompanying this notebook you'll find a module with an updated implementation of the `UnivariateBayesianInference` class you've worked with in recent assignments.  For this part of the assignment, you'll add a method to the class that implements the RWM algorithm, and explore its behavior."
   ]
  },
  {
   "cell_type": "markdown",
   "metadata": {
    "tags": [
     "problem=2.1",
     "points=3"
    ]
   },
   "source": [
    "### Problem 2.1 (3 points):\n",
    "\n",
    "> Add a new method, with signature `sample_rwm(self, n, w, param0)`, that implements the RWM algorithm for sampling from the posterior distribution, using a uniform proposal distribution of width `w` centered at the current sample.  Calling `sample_rwm` should start a Markov chain with the parameter value `param0`, and return three objects:\n",
    "> * an array of `n` samples that are approximate draws from the posterior distribution,\n",
    "> * an accompanying array of `n` values of  $\\log(\\text{prior}\\times\\text{likelihood})$ for those samples, \n",
    "> * an estimate of the acceptance rate of the chain (the fraction of proposals that are accepted).\n",
    "\n",
    "> (Don't worry about initialization bias/burn-in for this problem.)"
   ]
  },
  {
   "cell_type": "markdown",
   "metadata": {
    "tags": [
     "problem=2.2",
     "points=3"
    ]
   },
   "source": [
    "### Problem 2.2 (3 points):\n",
    "\n",
    "Explore the behavior of the RWM algorithm in the notebook by doing the following for a Cauchy inference instance; use the `CauchyLocationInference` class in the included `poisson_binomial_cauchy` module.  Use the same simulated dataset for each case.\n",
    "\n",
    "> * Plot a trace plot for the `x0` parameter showing 3 sample paths (on the same set of axes) for a choice of `w` for which the Markov chain has too small of an acceptance rate, so that it stays \"stuck\" for a long time (10s or 100s of time steps). Additionally, produce a separate trace plot showing the run of $\\log(\\text{prior}\\times\\text{likelihood})$ for those sample paths. (There are various ways you could make the two plots; a convenient way to do them in one cell is to use the `subplot` function in `matplotlib.pyplot`.)\n",
    "> * Plot a trace plot showing 3 sample paths for a choice of `w` for which the Markov chain has too large of an acceptance rate, so that it wanders slowly, not sufficiently exploring the posterior distribution. Again, produce a separate trace plot of the $\\log(\\text{prior}\\times\\text{likelihood})$ values.\n",
    "> * Finally, experiment to find a choice of `w` that gives an acceptance rate somewhere between 20% to 50%.  Using that value, make three plots: (1) A trace plot showing 1 sample path. (2)  A trace plot of $\\log(\\text{prior}\\times\\text{likelihood})$. (3) A plot showing the true posterior PDF as a solid curve, and a histogram of the MCMC `x0` samples."
   ]
  }
 ],
 "metadata": {
  "celltoolbar": "Tags",
  "kernelspec": {
   "display_name": "Python 3 (ipykernel)",
   "language": "python",
   "name": "python3"
  },
  "language_info": {
   "codemirror_mode": {
    "name": "ipython",
    "version": 3
   },
   "file_extension": ".py",
   "mimetype": "text/x-python",
   "name": "python",
   "nbconvert_exporter": "python",
   "pygments_lexer": "ipython3",
   "version": "3.9.7"
  }
 },
 "nbformat": 4,
 "nbformat_minor": 2
}
