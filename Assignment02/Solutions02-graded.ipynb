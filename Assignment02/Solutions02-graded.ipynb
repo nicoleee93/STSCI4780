{
 "cells": [
  {
   "cell_type": "markdown",
   "metadata": {},
   "source": [
    "# Solutions 02\n",
    "\n",
    "**Due:** Thursday, 2022-02-17, 11:59 PM, as a Jupyter notebook submitted via your repo in the course GitHub organization (see the detailed submission instructions in our LabResources repo).  Edit the provided Solution02 notebook with your solutions.  All subproblems are worth 1 point unless otherwise noted (grading will assign fractional points as appropriate)."
   ]
  },
  {
   "cell_type": "markdown",
   "metadata": {},
   "source": [
    "<div class=\"total\">\n",
    "Total score: 8.5/9.0\n",
    "</div>"
   ]
  },
  {
   "cell_type": "markdown",
   "metadata": {},
   "source": [
    "<div class=\"grader\">\n",
    "Grader: Georgia\n",
    "</div>\n",
    "\n",
    "***NOTE:*** *THIS IS A GRADED ASSIGNMENT NOTEBOOK.*  Graded notebooks use styling that is not rendered on GitHub or when first launching a saved notebook in a Jupyter server.  To properly view the graded notebook, please do one of the following:\n",
    "* Open this notebook in a Jupyter server and run the entire notebook (Kernel -> Restart & Run All). (It may be sufficient simply to run the following code cell.)\n",
    "* View the HTML version of the graded notebook in a web browser (do this with the version pulled to your computer; GitHub does not render HTML files stored in repos)."
   ]
  },
  {
   "cell_type": "code",
   "execution_count": 1,
   "metadata": {
    "autoscroll": false,
    "execution": {
     "iopub.execute_input": "2022-03-06T07:34:09.706850Z",
     "iopub.status.busy": "2022-03-06T07:34:09.706200Z",
     "iopub.status.idle": "2022-03-06T07:34:09.734479Z",
     "shell.execute_reply": "2022-03-06T07:34:09.733546Z"
    }
   },
   "outputs": [
    {
     "data": {
      "text/html": [
       "<!--\n",
       "Custom CSS styling for IPython notebooks, adapted from various sources including:\n",
       "* http://nbviewer.ipython.org/github/ketch/teaching-numerics-with-notebooks/blob/master/Styling_notebooks.ipynb\n",
       "* http://www.frankcleary.com/exporting-static-ipython-notebooks-with-style/\n",
       "Compiled 2015-03-09 by Tom Loredo\n",
       "-->\n",
       "<style>\n",
       "\n",
       "#notebook_panel { /* main background */\n",
       "    background: #888;\n",
       "    color: #f6f6f6;\n",
       "}\n",
       "\n",
       "/* set cell width to about 90 chars, so indented Markdown code isn't too narrow */\n",
       "div.cell {\n",
       "    width: 900px;\n",
       "}\n",
       "\n",
       "div #notebook { /* centre the content */\n",
       "    background: #fff; /* white background for content */\n",
       "    width: 1000px;\n",
       "    margin: auto;\n",
       "    padding-left: 1em;\n",
       "}\n",
       "\n",
       "#notebook li { /* More space between bullet points */\n",
       "margin-top:0.8em;\n",
       "}\n",
       "\n",
       "/* draw border around running cells */\n",
       "div.cell.border-box-sizing.code_cell.running {\n",
       "    border: 4px solid #A00;\n",
       "}\n",
       "\n",
       "/* Put a solid color box around each code cell and its output,\n",
       "   visually linking them together */\n",
       "div.cell.code_cell {\n",
       "    background-color: rgba(171,165,131,0.3); \n",
       "    border-radius: 10px; /* rounded borders */\n",
       "    padding: 1em;\n",
       "    margin-top: .5em;\n",
       "    margin-bottom: .5em;\n",
       "}\n",
       "\n",
       "div.cell.text_cell {\n",
       "    border-radius: 10px; /* rounded borders */\n",
       "    padding: 1em;\n",
       "    margin-top: .5em;\n",
       "    margin-bottom: .5em;\n",
       "}\n",
       "\n",
       "div.text_cell_render{\n",
       "    line-height: 130%;\n",
       "    font-size: 115%;\n",
       "    width: 800px;\n",
       "    margin-left: auto;\n",
       "    margin-right: auto;\n",
       "}\n",
       "\n",
       "/* draw border to left of text cells; using text_cell_render would put\n",
       "   right next to the text */\n",
       "div.cell.text_cell{\n",
       "    margin-top: 4px;\n",
       "    margin-bottom: 4px;\n",
       "    padding-top: 2px;\n",
       "    padding-bottom: 2px;\n",
       "    border-left: 2px solid #CCC;\n",
       "    border-collapse: collapse;\n",
       "    border-top: none;\n",
       "    border-bottom: none;\n",
       "}\n",
       "\n",
       "div.grader{\n",
       "    background-color: rgba(0,128,0,0.3); \n",
       "    border-radius: 10px; /* rounded borders */\n",
       "    padding: .3em 0em .5em .5em;\n",
       "    margin-top: .5em 0em .5em 0em;\n",
       "    font-weight: bold;\n",
       "}\n",
       "\n",
       "div.total{\n",
       "    background-color: rgba(0,128,0,0.3); \n",
       "    border-radius: 10px; /* rounded borders */\n",
       "    padding: .3em 0em .5em .5em;\n",
       "    margin-top: .5em 0em .5em 0em;\n",
       "    font-weight: bold;\n",
       "}\n",
       "\n",
       "div.comments{\n",
       "    border-radius: 10px; /* rounded borders */\n",
       "    border-top: 4px solid;\n",
       "    border-color: #070;  /* was:  #505050 */\n",
       "    color: #070;\n",
       "    padding: .3em 0em .5em .5em;\n",
       "    margin-top: .5em 0em .5em 0em;\n",
       "    font-weight: bold;\n",
       "    font-style: oblique;\n",
       "    text-align: center;\n",
       "}\n",
       "\n",
       "div.grade{\n",
       "    border-radius: 10px; /* rounded borders */\n",
       "    border-bottom: 4px solid;\n",
       "    border-color: #070;\n",
       "    color: #070;\n",
       "    padding: .5em 0em .3em .5em;\n",
       "    margin-top: .5em;\n",
       "    margin-bottom: .5em;\n",
       "    font-weight: bold;\n",
       "    font-style: oblique;\n",
       "    text-align: center;\n",
       "}\n",
       "\n",
       "</style>\n"
      ],
      "text/plain": [
       "<IPython.core.display.HTML object>"
      ]
     },
     "execution_count": 1,
     "metadata": {},
     "output_type": "execute_result"
    }
   ],
   "source": [
    "from IPython.display import HTML\n",
    "HTML(open('graded_style.html', 'r').read())"
   ]
  },
  {
   "cell_type": "markdown",
   "metadata": {
    "tags": [
     "problem=1.1",
     "points=0.5"
    ]
   },
   "source": [
    "### Problem 1.1 (1/2 point):\n",
    "\n",
    "> *How many possible binary logical operations are there?*  Don't just report a number; briefly explain your reasoning."
   ]
  },
  {
   "cell_type": "markdown",
   "metadata": {},
   "source": [
    "> I think there will be 16 possible logical operations. For all four A and B's combination {(0,0),(0,1),(1,0),(1,1)}, each has two possible outcomes 0 or 1. Therefore, there are $2^4=16$ possible outcomes and each can be achieved by a logical operation."
   ]
  },
  {
   "cell_type": "markdown",
   "metadata": {},
   "source": [
    "<div class=\"comments\">\n",
    "Grader comments\n",
    "</div>\n",
    "\n",
    "\n",
    "\n",
    "<div class=\"grade\">\n",
    "Problem 1.1 points:  0.5/0.5\n",
    "</div>"
   ]
  },
  {
   "cell_type": "markdown",
   "metadata": {
    "tags": [
     "problem=1.2",
     "points=0.5"
    ]
   },
   "source": [
    "### Problem 1.2 (1/2 point):\n",
    "\n",
    "An important result in propositional logic is that **all** possible logical operations can be expressed in terms of **NOT**, **AND**, and **OR**; one says this set of operations is *functionally complete*.  In particular, whatever your answer was for Problem 1.1, all of those binary operations can be expressed as some combination of **NOT**, **AND**, and **OR**.  This is important for probability theory, which is built on expressions for probabilities for these three operations on propositions.\n",
    "\n",
    "> *Express **XOR** in terms of **NOT**, **AND**, and **OR** (you may not need all of them).*\n",
    "\n",
    "> Present your result as a truth table similar to this:\n",
    "\n",
    "| A | B |   | OP1 | OP2 | ... |   | **Answer** |\n",
    "|:---:|:---:|---|:---:|:---:|:---:|---|:----------:|\n",
    "| 0   | 0   |   | ?   | ?   |     |   | 0          |\n",
    "| 0   | 1   |   | ?   | ?   |     |   | 1          |\n",
    "| 1   | 0   |   | ?   | ?   |     |   | 1          |\n",
    "| 1   | 1   |   | ?   | ?   |     |   | 0          |\n",
    "\n",
    "> Replace **OP1**, etc., with whatever operations you are composing to construct **XOR** (i.e., showing the ingredients comprising your expression), and replace **Answer** with your final expression (e.g., something like $(A\\land B)\\lor (\\overline{A\\lor B}) \\land B$, but not exactly that!).\n",
    "\n",
    "[To quickly create nice Markdown markup for the tables above, I used the [Markdown TablesGenerator](http://www.tablesgenerator.com/markdown_tables) that we used in Lab.  Feel free to use it to help with your solutions.]"
   ]
  },
  {
   "cell_type": "markdown",
   "metadata": {},
   "source": [
    "> My result:\n",
    "\n",
    "> OP1=$\\overline{A\\land B}$\n",
    "\n",
    "> OP2=A $\\lor$ B\n",
    "\n",
    "> ANSWER=$(A\\lor B)\\land (\\overline{A\\land B})$\n",
    "\n",
    "| A | B | A NAND B | A OR B | (A NAND B) AND (A OR B) |\n",
    "|---|---|-----|-----|--------|\n",
    "| 0 | 0 | 1   | 0   | 0      |\n",
    "| 0 | 1 | 1   | 1   | 1      |\n",
    "| 1 | 0 | 1   | 1   | 1      |\n",
    "| 1 | 1 | 0   | 1   | 0      |"
   ]
  },
  {
   "cell_type": "markdown",
   "metadata": {},
   "source": [
    "<div class=\"comments\">\n",
    "Grader comments\n",
    "</div>\n",
    "\n",
    "\n",
    "\n",
    "<div class=\"grade\">\n",
    "Problem 1.2 points:  0.5/0.5\n",
    "</div>"
   ]
  },
  {
   "cell_type": "markdown",
   "metadata": {
    "tags": [
     "problem=1.3",
     "points=1"
    ]
   },
   "source": [
    "### Problem 1.3:\n",
    "\n",
    "There are other small sets of functionally complete operations.  In fact, all possible logical operations can be expressed in terms of a **single** binary operator, which may be taken to be either **NAND** (\"*NOT* *AND*\" or \"not both,\" i.e., $\\overline{A\\land B}$) or **NOR** (\"*NOT* *OR*,\" i.e., $\\overline{A\\lor B}$, \"neither $A$ nor $B$\"), as defined in the following truth table:\n",
    "\n",
    "| A | B |   | A NAND B | A NOR B |\n",
    "|:---:|:---:|---|:------------:|:-----------:|\n",
    "| 0   | 0   |   | 1            | 1           |\n",
    "| 0   | 1   |   | 1            | 0           |\n",
    "| 1   | 0   |   | 1            | 0           |\n",
    "| 1   | 1   |   | 0            | 0           |\n",
    "\n",
    "> *Pick one of these operators, and express $\\overline{A}$, $A\\land B$, and $A\\lor B$ in terms of it.*  You need only present three expressions (use MathJax LaTeX); no truth tables are necessary."
   ]
  },
  {
   "cell_type": "markdown",
   "metadata": {},
   "source": [
    "> Pick NAND to express other operators\n",
    "\n",
    "> $\\overline{A}$=A NAND A\n",
    "\n",
    "> $A \\land B$=(A NAND B) NAND (A NAND B)\n",
    "\n",
    "> $A \\lor B$=(A NAND A) NAND (B NAND B)"
   ]
  },
  {
   "cell_type": "markdown",
   "metadata": {},
   "source": [
    "<div class=\"comments\">\n",
    "Grader comments\n",
    "</div>\n",
    "\n",
    "\n",
    "\n",
    "<div class=\"grade\">\n",
    "Problem 1.3 points:  1/1\n",
    "</div>"
   ]
  },
  {
   "cell_type": "markdown",
   "metadata": {
    "tags": [
     "problem=1.4",
     "points=1"
    ]
   },
   "source": [
    "### Problem 1.4:\n",
    "\n",
    "Digital computers are essentially propositional logic computing devices, built using *combinational logic gate* circuit elements that implement basic logic functions (and *sequential logic* elements that implement memory), with the circuits treating a signal with a voltage near the power supply voltage (typ. 3.3 volts) as a logical \"1\" and a voltage near zero volts as a logical \"0\".\n",
    "\n",
    "A key component of a CPU chip in a computer is an ***arithmetic logic unit*** (ALU) that performs arithmetic and bitwise logic operations on single binary digits (*bits*) and larger groups of binary digits (*nibbles* comprised of 4 bits, *bytes* comprised of 8 bits, and *words* comprised of multiple bytes).  The ALU is built from simple gates that implement desired operations via truth table representations.  For example, the addition of the lowermost bits, $A$ and $B$, of two numbers can be expressed by the following truth table:\n",
    "\n",
    "| A | B |   | Sum | Carry |\n",
    "|:---:|:---:|---|:---:|:-----:|\n",
    "| 0   | 0   |   | 0   | 0     |\n",
    "| 0   | 1   |   | 1   | 0     |\n",
    "| 1   | 0   |   | 1   | 0     |\n",
    "| 1   | 1   |   | 0   | 1     |\n",
    "\n",
    "Here **Sum** denotes the first (lowermost) binary digit of the sum of $A$ and $B$, and **Carry** denotes a carry bit, indicating that $1+1=2$, or 10 in binary (the carry bit will affect the outcome of adding the next highest bits of the numbers being processed by the ALU).  Two logic functions implementing this table comprise a *half adder* (a *full adder* is a trinary operation that handles an additional carry bit input).\n",
    "\n",
    "> *Express the Sum and Carry operations in terms of **NOT**, **AND**, and **OR**.*  Show the intermediate operations in a truth table, along the lines of Problem 1.2."
   ]
  },
  {
   "cell_type": "markdown",
   "metadata": {},
   "source": [
    "> Sum:\n",
    "\n",
    "| A | B | A OR B | A AND B | NOT(A AND B) | (A OR B) AND NOT(A AND B) |\n",
    "|---|---|--------|---------|--------------|---------------------------|\n",
    "| 0 | 0 | 0      | 0       | 1            | 0                         |\n",
    "| 0 | 1 | 1      | 0       | 1            | 1                         |\n",
    "| 1 | 0 | 1      | 0       | 1            | 1                         |\n",
    "| 1 | 1 | 1      | 1       | 0            | 0                         |\n",
    "\n",
    "> Carry:\n",
    "\n",
    "| A | B | A AND B |\n",
    "|---|---|---------|\n",
    "| 0 | 0 | 0       |\n",
    "| 0 | 1 | 0       |\n",
    "| 1 | 0 | 0       |\n",
    "| 1 | 1 | 1       |"
   ]
  },
  {
   "cell_type": "markdown",
   "metadata": {},
   "source": [
    "<div class=\"comments\">\n",
    "Grader comments\n",
    "</div>\n",
    "\n",
    "\n",
    "\n",
    "<div class=\"grade\">\n",
    "Problem 1.4 points:  1/1\n",
    "</div>"
   ]
  },
  {
   "cell_type": "markdown",
   "metadata": {
    "tags": [
     "problem=2.1",
     "points=1"
    ]
   },
   "source": [
    "### Problem 2.1:\n",
    "\n",
    "> *Using Bayes's theorem, answer the question posed in the Kahneman/Tversky problem, verifying that the typical answer is incorrect.*\n",
    "> * Specify the hypothesis space.\n",
    "> * Specify the data proposition.\n",
    "> * Calculate the posterior probabilities for the hypotheses, presenting a table that shows the prior, likelihood, prior$\\times$likelihood, and posterior probabilities for the hypotheses."
   ]
  },
  {
   "cell_type": "markdown",
   "metadata": {},
   "source": [
    "> Hypothesis space: $H=\\{H_0,H_1\\}$\n",
    "\n",
    "$\\qquad H_0$:The cab involved in the accident was actually Blue\n",
    "\n",
    "$\\qquad H_1$:The cab involved in the accident was actually Green\n",
    "\n",
    "> Data proposition: A witness identified the cab as Blue.\n",
    "\n",
    "> Caculate posterior probability:\n",
    "\n",
    "| Hypothesis | Prior=P(H\\|C) | Likelihood=P(D\\|H,C) | Joint=P(H\\|C)*P(D\\|H,C) | Posterior=P(H\\|D,C) |\n",
    "|------------|---------------|----------------------|-------------------------|---------------------|\n",
    "| H0:Blue    | 0.15          | 0.8                  | 0.12                    | 0.31                |\n",
    "| H1:Green   | 0.85          | 0.2                  | 0.17                    | 0.69                |\n",
    "| Sum        | 1             | /                    | 0.39                    | 1                   |"
   ]
  },
  {
   "cell_type": "markdown",
   "metadata": {},
   "source": [
    "<div class=\"comments\">\n",
    "Grader comments\n",
    "</div>\n",
    "\n",
    "\n",
    "\n",
    "<div class=\"grade\">\n",
    "Problem 2.1 points:  1/1\n",
    "</div>"
   ]
  },
  {
   "cell_type": "markdown",
   "metadata": {
    "tags": [
     "problem=2.2",
     "points=1"
    ]
   },
   "source": [
    "### Problem 2.2:\n",
    "\n",
    "> Briefly explain what you think the heuristic is that most people used to justify their conclusion.  Criticize it in light of the result of the calculation in Problem 2.1."
   ]
  },
  {
   "cell_type": "markdown",
   "metadata": {},
   "source": [
    "> People tend to mistake the reliability of data for the strength of a hypothesis.In this case, it is claimed that the witness correctly identified each one of the two colors 80% of the time and failed 20% of the time. To be specific, when the car in the accident is Blue, the witness identified it right 80% of the time and wrong 20% of the time. 80% and 20% are derived conditioned on we know that the car is Blue. That's maybe the reason why many people get 80% in the problem.\n",
    "\n",
    "> However, that the cab involved in the accident was actually Blue is unknown and should not be used in the condition of a probability. The data we know is the witness's observation. We should respectively calculate the probabilities of the car in the accident is Blue or Green conditioned on the witness's observation, which is $P(H_i|D,C)$ rather than $P(D|H_i,C)$.\n",
    "\n",
    "> Using Bayesian theorem:\n",
    "$$P(H_i|D,C)=\\frac{P(H_i,D|C)}{P(D|C)}=P(H_i|c)\\frac{P(D|H_i,C)}{P(D|C)}$$\n",
    "we can derive the posterior probability is 31%."
   ]
  },
  {
   "cell_type": "markdown",
   "metadata": {},
   "source": [
    "<div class=\"comments\">\n",
    "Grader comments\n",
    "</div>\n",
    "\n",
    "\n",
    "\n",
    "<div class=\"grade\">\n",
    "Problem 2.2 points:  1/1\n",
    "</div>"
   ]
  },
  {
   "cell_type": "markdown",
   "metadata": {
    "tags": [
     "problem=3.1",
     "points=1"
    ]
   },
   "source": [
    "### Problem 3.1 — Lazy Monty\n",
    "\n",
    "One of the contextual assumptions used in the lecture was that, when you have chosen the door with the prize behind it, Monty will open one of the other doors by choosing one of them randomly, with equal probability. Here, consider the lecture setup (where you initially choose door 1, and Monty opens door 3), but with slightly different contextual information, $\\mathcal{C}'$, that specifies probabilities $q_2$ and $q_3 = 1-q_2$ that Monty will pick door 2 or door 3 (respectively) when neither hide the prize.  For example, from watching the show, you may have observed that Monty is at the right of the stage, and appears to be lazy: when he could have chosen either door, he tends to favor the one nearest to him (i.e., $q_3 > q_2$).\n",
    "\n",
    "> *Recalculate the probability table we computed in the lecture, to calculate posterior probabilities that the prize is behind each of the three doors.  As was done in lecture, assume you've initially chosen door 1, and that Monty opens door 3.*\n"
   ]
  },
  {
   "cell_type": "markdown",
   "metadata": {},
   "source": [
    "| Hypothesis | Prior=P($H_i$\\|C) | Likelihood=P($D_3$\\|$H_i$,C) | Joint=P($H_i$\\|C)*P($D_3$\\|$H_i$,C) | Posterior=P($H_i$\\|$D_3$,C) |\n",
    "|------------|-------------------|------------------------------|-------------------------------------|-----------------------------|\n",
    "| $H_1$      |$\\frac{1}{3}$        | $q_3$                        | $\\frac{q_3}{3}$                             | $\\frac{q_3}{q_3+1}$         |\n",
    "| $H_2$      | $\\frac{1}{3}$               | 1                            | $\\frac{1}{3}$                                 | $\\frac{1}{q_3+1}$           |\n",
    "| $H_3$      | $\\frac{1}{3}$               | 0                            | 0                                   | 0                           |\n",
    "| Sum        | 1                 | /                            | $\\frac{q_3+1}{3}$                   | 1                           |"
   ]
  },
  {
   "cell_type": "markdown",
   "metadata": {},
   "source": [
    "<div class=\"comments\">\n",
    "Grader comments\n",
    "</div>\n",
    "\n",
    "\n",
    "\n",
    "<div class=\"grade\">\n",
    "Problem 3.1 points:  1/1\n",
    "</div>"
   ]
  },
  {
   "cell_type": "markdown",
   "metadata": {
    "tags": [
     "problem=3.2",
     "points=1"
    ]
   },
   "source": [
    "### Problem 3.2 — LTP version\n",
    "\n",
    "Consider again the Monte Hall problem as treated in the lecture. We treated the case where you initially chose door 1, and the datum was the proposition, \"Monty opened door 3\" (which we denoted $D_3$).  It's probably obvious to you that the problem has symmetries: that it doesn't matter which door you initially picked, or which of the other doors Monty opened: it's always in your interest to switch.\n",
    "\n",
    "Here, treat the problem in a more symmetric way.  Keep the assumption that you've initially chosen door 1.  But suppose you are trying to come up with a *strategy* for the game, before knowing which door Monty opens (but otherwise knowing all the rules, as specified in the lecture).  Let $W$ denote the proposition, \"I will win by switching to the door Monty does not open.\"  \n",
    "\n",
    "> *Compute $P(W|\\mathcal{C})$ using the law of total probability (LTP) in the \"extend the conversation\" or \"wishful thinking\" version discussed in Lec03.  Pick a set of exclusive, exhaustive propositions (filling the role of the $B_i$ in Lec03) such that, if you knew one of them were true, you could compute $P(W|B_i,\\mathcal{C})$ (use whatever symbol you deem appropriate for $B_i$).  Then use the LTP to account for uncertainty about which of those propositions actually holds.*\n",
    "\n",
    "**Hint:** You should find the same result we found in the specific case treated in class, that the probability for winning if you switch is 2/3."
   ]
  },
  {
   "cell_type": "markdown",
   "metadata": {},
   "source": [
    "\\begin{align}\n",
    "P(W|\\mathcal{C})=&\\sum_i P(D_i|C)P(W|D_i,C)\\\\\n",
    "=&P(D_1|C)P(W|D_1,C)+P(D_2|C)P(W|D_2,C)+P(D_3|C)P(W|D_3,C)\\\\\n",
    "=&0+\\frac{1}{2}*\\frac{2}{3}+\\frac{1}{2}*\\frac{2}{3}\\\\\n",
    "=&\\frac{2}{3}\n",
    "\\end{align}\n"
   ]
  },
  {
   "cell_type": "markdown",
   "metadata": {},
   "source": [
    "<div class=\"comments\">\n",
    "Your setup involves some circular reasoning. The only reason you know $P(W|B_2,C)=P(W|B_3,C)=2/3$ is because you already did this problem in another manner. We're trying to calculate this number in a sense, \"from scratch\".\n",
    "\n",
    "A good $B_i$ to choose is \"prize is behind door $i$\". Then,\n",
    "$$\n",
    "P(W|\\mathcal{C}) = \\sum_{i=1}^3 P(B_i|\\mathcal{C})\\, P(W|B_i,\\mathcal{C}).\n",
    "$$\n",
    "Now work out the probabilities in the sum for each $i$. From the rules of the game, $P(B_i|\\mathcal{C}) = 1/3$ for all $i$. So we just need the conditional probabilities, as follows:\n",
    "* $i=1$: Here the prize is behind my door, so I'm sure to lose if I switch; thus $P(W|B_1,\\mathcal{C}) = 0$.\n",
    "* $i=2$: Here Monty *must* open door 3, and I win if I switch, so $P(W|B_2,\\mathcal{C}) = 1$.\n",
    "* $i=3$: This is like the $i=2$ case, implying $P(W|B_3,\\mathcal{C}) = 1$.\n",
    "\n",
    "Inserting the probabilities into the sum,\n",
    "$$\n",
    "P(W|\\mathcal{C}) = 0 + 1/3 + 1/3 = 2/3,\n",
    "$$\n",
    "as we found in the lecture.\n",
    "</div>\n",
    "\n",
    "\n",
    "\n",
    "<div class=\"grade\">\n",
    "Problem 3.2 points:  0.5/1\n",
    "</div>"
   ]
  },
  {
   "cell_type": "markdown",
   "metadata": {
    "tags": [
     "problem=4.1",
     "points=1"
    ]
   },
   "source": [
    "### Problem 4.1:\n",
    "\n",
    "> *Derive the formula given in lecture for the expectation value of $x$, denoted $\\Bbb{E}(x)$ or $\\langle x\\rangle$, in terms of $a$ and $b$, where*\n",
    "$$\n",
    "\\Bbb{E}(x) = \\int dx\\; x \\times {\\rm Beta}(x|a,b).\n",
    "$$\n",
    "\n",
    "Present your derivation in the Jupyter notebook using MathJax LaTeX notation for the math (make sure to also use text to briefly explain your reasoning throughout the derivation—don't just present formulas). "
   ]
  },
  {
   "cell_type": "markdown",
   "metadata": {},
   "source": [
    "\\begin{align}\n",
    "\\Bbb{E}(x) &= \\int dx\\; x \\times {\\rm Beta}(x|a,b)\\\\\n",
    "&=\\frac{1}{B(a,b)}\\int dx\\; x^{a} (1-x)^{b-1}\\\\\n",
    "\\end{align}\n",
    "\n",
    "Using Beta function:\n",
    "$$B(a,b)=\\int x^{a-1} (1-x)^{b-1}dx =\\frac{\\Gamma (a)\\Gamma(b)}{\\Gamma(a+b)}$$\n",
    "\n",
    "We have:\n",
    "\\begin{align}\n",
    "\\Bbb{E}(x)&=\\frac{1}{B(a,b)} B(a+1,b)\\\\\n",
    "&=\\frac{\\Gamma (a)\\Gamma(b)}{\\Gamma(a+b)} \\frac{\\Gamma (a+1)\\Gamma(b)}{\\Gamma(a+b+1)}\\\\\n",
    "\\end{align}\n",
    "in terms of the Gamma function,$\\Gamma(n)=(n-1)!$\n",
    "\n",
    "Thus,the expectation value of $x$ is:\n",
    "\\begin{align}\n",
    "\\Bbb{E}(x)&=\\frac{\\Gamma(a+b)}{\\Gamma (a)\\Gamma(b)} \\frac{\\Gamma (a+1)\\Gamma(b)}{\\Gamma(a+b+1)}\\\\\n",
    "&=\\frac{(a+b-1)!}{(a-1)!(b-1)!} \\frac{a!(b-1)!}{(a+b)!}\\\\\n",
    "&=\\frac{a}{a+b}\n",
    "\\end{align}"
   ]
  },
  {
   "cell_type": "markdown",
   "metadata": {},
   "source": [
    "<div class=\"comments\">\n",
    "Grader comments\n",
    "</div>\n",
    "\n",
    "\n",
    "\n",
    "<div class=\"grade\">\n",
    "Problem 4.1 points:  1/1\n",
    "</div>"
   ]
  },
  {
   "cell_type": "markdown",
   "metadata": {
    "tags": [
     "problem=4.2",
     "points=1"
    ]
   },
   "source": [
    "### Problem 4.2:\n",
    "\n",
    "> *Derive the formula given in lecture for the mode of the beta distribution, $\\hat x$, in terms of $a$ and $b$.  (Recall that the mode is the value of $x$ with maximum probability density.)*\n"
   ]
  },
  {
   "cell_type": "markdown",
   "metadata": {},
   "source": [
    "The beta probability density function is:\n",
    "    $$f(\\alpha|a,b)=\\frac{1}{B(a,b)} \\alpha^{a-1} (1-\\alpha)^{b-1}$$\n",
    "For the mode is the value of $x$ with maximum probability density, we can simply take the derivative of the density function and make it to zero to find the maximizer.\n",
    "\\begin{align}\n",
    "f'(\\alpha|a,b)&=\\frac{1}{B(a,b)} ((a-1)\\alpha^{a-2} (1-\\alpha)^{b-1}-(b-1)\\alpha^{a-1} (1-\\alpha)^{b-2})\\\\\n",
    "f'(\\alpha|a,b)&=0\\\\\n",
    "\\end{align}\n",
    "Combining the above two equation, we have:\n",
    "$$\\hat{\\alpha}=\\frac{a-1}{(a-1)+(b-1)}$$"
   ]
  },
  {
   "cell_type": "markdown",
   "metadata": {},
   "source": [
    "<div class=\"comments\">\n",
    "Grader comments\n",
    "</div>\n",
    "\n",
    "\n",
    "\n",
    "<div class=\"grade\">\n",
    "Problem 4.2 points:  1/1\n",
    "</div>"
   ]
  }
 ],
 "metadata": {
  "celltoolbar": "Tags",
  "kernelspec": {
   "display_name": "Python 3 (ipykernel)",
   "language": "python",
   "name": "python3"
  },
  "language_info": {
   "codemirror_mode": {
    "name": "ipython",
    "version": 3
   },
   "file_extension": ".py",
   "mimetype": "text/x-python",
   "name": "python",
   "nbconvert_exporter": "python",
   "pygments_lexer": "ipython3",
   "version": "3.9.7"
  }
 },
 "nbformat": 4,
 "nbformat_minor": 1
}
