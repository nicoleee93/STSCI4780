{
 "cells": [
  {
   "cell_type": "markdown",
   "metadata": {},
   "source": [
    "# Solutions 04\n",
    "\n",
    "**Due:** 2022-03-10, 11:59 PM, as a Jupyter notebook (with related files) submitted via your repo in the course GitHub organization.  Edit the provided Solutions04 notebook with your solutions."
   ]
  },
  {
   "cell_type": "markdown",
   "metadata": {},
   "source": [
    "## 0. Add/commit a .gitignore file in your assignments repo\n",
    "\n",
    "Python, Jupyter, and other tools we'll use in the future create auxilliary files that are useful for running scripts, modules, and notebooks locally, but that should not be tracked and shared in your repo. Git supports the use of a `.gitignore` file at the top level of a repo, identifying files or groups of files (and folders) that should be ignored by Git. This file can also be used to make Git ignore platform-specific files that aren't useful to share, like the `.DS_Store` file that the macOS Finder creates in many folders (to hold file metadata).\n",
    "\n",
    "We are providing a `.gitignore` file to use in your assignment repo. **Correctly adding and commiting the `.gitignore` file is required.** You will *lose 0.5 point if it is not done correctly*. Fortunately, it's easy to do:\n",
    "\n",
    "* Sync your copy of our LabResources folder using `git pull` (which you probably already did to get your copy of this assignment).\n",
    "* **Copy** (do not just move) the `dot-gitignore` file to the top level of your assignments repor. For me, I would put it inside my `tjl9-BDAOrg` folder, so its path would be `.../tjl9-BDAOrg/dot-gitignore'.\n",
    "* **Rename** the file to `.gitignore`. On many platforms, this will cause the file to disappear from file listings (e.g., it will vanish in a macOS Finder window, and it will not appear in a Linus `ls` file listing). Don't worry, it's still there. The leading dot makes `.gitignore` a hidden file on many platforms.\n",
    "* Use Git to add and commit the `.gitignore` file.\n",
    "\n",
    "That's it!\n",
    "\n",
    "If you use a tool (editor, IDE) that creates auxilliary files or folders in your repo that you don't want to track, feel free to **add** entries to the `.gitignore` file, directing Git not to track those files. But please do not remove entries from it."
   ]
  },
  {
   "cell_type": "markdown",
   "metadata": {},
   "source": [
    "## 1. Enhancing the *UnivariateBayesianInference* class\n",
    "\n",
    "The assignment directory includes a `univariate_bayes.py` file that implements a `univariate_bayes` module with a single class, `UnivariateBayesianInference`; this code was introduced in Lab06.  This class is meant to be used as a **base class** that is inherited by a subclass written to solve univariate inference problems with a specific type of likelihood function and data.  Lab06 provided examples for binomial and Poisson cases.  For this problem, you will enhance the capabilities of `UnivariateBayesianInference`.\n",
    "\n",
    "Your repo also has a `binomial_poisson.py` file, also meant to be used as module, with two classes that subclass `UnivariateBayesianInference`:  `BinomialInference` and `PoissonRateInference`.  We discussed and used these classes in Lab06.  There we created instances of those classes in the same file that defined them; here, you'll import the classes from the module and work with them in your solutions notebook."
   ]
  },
  {
   "cell_type": "markdown",
   "metadata": {
    "tags": [
     "problem=1.1",
     "points=2"
    ]
   },
   "source": [
    "### Problem 1.1 (2 points):\n",
    "\n",
    "> Add code to the `__init__` method of the `UnivariateBayesianInference` class (defined in `univariate_bayes.py`) that computes the mean and standard deviation of the parameter's posterior PDF.  Store the results in two new data attributes:\n",
    "* `mean`, containing the posterior mean of the value of the parameter by quadrature\n",
    "* `std`, containing the posterior standard deviation by quadrature\n",
    "\n",
    "> You may use quadrature functions in `NumPy` or `SciPy`. Be sure to maintain comments and docstrings:  revise the module docstring to note that you have revised the module's code, and provide brief comments for the added code."
   ]
  },
  {
   "cell_type": "code",
   "execution_count": 2,
   "metadata": {},
   "outputs": [],
   "source": [
    "\"\"\"\n",
    "Module defining a base class implementing simple Bayesian inference for a\n",
    "univariate model, using quadrature for integration.\n",
    "\n",
    "Created Feb 27, 2015 by Tom Loredo\n",
    "2018-03-08 Modified for Py-3, updated for BDA18\n",
    "2020-02-26 Updated for BDA20\n",
    "2022-03-10 Revised by Yi Han for BDA22 HW4\n",
    "\"\"\"\n",
    "\n",
    "import numpy as np\n",
    "from numpy import *\n",
    "from matplotlib.pyplot import plot\n",
    "\n",
    "\n",
    "class UnivariateBayesianInference(object):\n",
    "    \"\"\"\n",
    "    Implement Bayesian inference for a univariate model, using quadrature for\n",
    "    integrals.\n",
    "    \"\"\"\n",
    "\n",
    "    def __init__(self, param_grid, prior, lfunc=None, logprob=False):\n",
    "        \"\"\"\n",
    "        Calculate the posterior distribution over a grid in parameter space.\n",
    "\n",
    "        Either the likelihood or the log-likelihood may be specified.\n",
    "\n",
    "        Parameters\n",
    "        ----------\n",
    "        param_grid : float array\n",
    "            Array of parameter values; assumed equally spaced\n",
    "\n",
    "        prior : float or function\n",
    "            Prior PDF for the param, as a constant for flat prior, or\n",
    "            a function that can evaluate the PDF on an array; if\n",
    "            logprob == True, prior is interpreted as the log density\n",
    "\n",
    "        lfunc : function\n",
    "            Function that can evaluate the likelihood on an array; if\n",
    "            logprob == True, lfunc is interpreted as the log likelihood\n",
    "\n",
    "        logprob : boolean\n",
    "            If False, prior and lfunc are interpreted as providing the actual\n",
    "            prioir PDF and likelihood function; if True, they are interpreted\n",
    "            as providing the log prior PDF and log likelihood function\n",
    "        \"\"\"\n",
    "        self.param_grid = param_grid\n",
    "        self.delta = param_grid[1] - param_grid[0]\n",
    "        self.logprob = logprob\n",
    "\n",
    "        # Evaluate prior and likelihood over the grid.  These will be\n",
    "        # the log values if logprob=True.\n",
    "        if callable(prior):\n",
    "            self.prior_pdf = prior(param_grid)\n",
    "        else:\n",
    "            self.prior_pdf = prior * ones_like(param_grid)\n",
    "        self.like = lfunc(param_grid)\n",
    "\n",
    "        # Handle the logprob=True case.\n",
    "        if self.logprob:\n",
    "            # Subtract off the max to avoid possible underflow everywhere.\n",
    "            # Note this affects the marginal likelihood so it needs to be\n",
    "            # taken into account if the marginal likelihood is used directly,\n",
    "            # e.g., to compute a Bayes factor.  So save the max values.\n",
    "            self.max_log_prior = self.prior_pdf.max()\n",
    "            self.prior_pdf = exp(self.prior_pdf - self.max_log_prior)\n",
    "            self.max_log_like = self.like.max()\n",
    "            self.like = exp(self.like - self.max_log_like)\n",
    "\n",
    "        # Bayes's theorem, using the trapezoid rule for the marginal likeilhood:\n",
    "        numer = self.prior_pdf * self.like\n",
    "        self.mlike = np.trapz(numer, dx=self.delta)\n",
    "        self.post_pdf = numer / self.mlike\n",
    "        \n",
    "        mean0=self.param_grid*self.post_pdf\n",
    "        self.mean=np.trapz(mean0, dx=self.delta)\n",
    "        std0=(self.param_grid-self.mean)*(self.param_grid-self.mean)\n",
    "        std0=std0*self.post_pdf\n",
    "        self.std=np.trapz(std0, dx=self.delta)\n",
    "\n",
    "    def plot(self, ls='b-', lw=3, **kwds):\n",
    "        \"\"\"\n",
    "        Plot the posterior PDF using the current axes.\n",
    "        \"\"\"\n",
    "        plot(self.param_grid, self.post_pdf, ls, lw=lw, **kwds)\n",
    "\n"
   ]
  },
  {
   "cell_type": "markdown",
   "metadata": {
    "tags": [
     "problem=1.2",
     "points=2"
    ]
   },
   "source": [
    "### Problem 1.2 (2 points):\n",
    "\n",
    "> Test the methods by creating one instance each of `PoissonRateInference` and `BinomialInference` in your solution notebook (with input arguments of your choosing) and comparing your quadrature-based mean and standard deviation posterior summaries with analytical formulas presented in lectures.  Do the comparison by calculating the percentage difference between the quadrature-based and formula-based results and displaying the the results and percentage differences in the notebook. Display the results with an appropriate level of precision (e.g., 2 or 3 significant digits), using Python's string formatting capability.  (See [Python String Format Cookbook – mkaz.blog](https://mkaz.blog/code/python-string-format-cookbook/) for tips on this.)"
   ]
  },
  {
   "cell_type": "code",
   "execution_count": 16,
   "metadata": {},
   "outputs": [
    {
     "name": "stdout",
     "output_type": "stream",
     "text": [
      "quadrature-based: 8.499825391761025\n",
      "formula-based: 8.5\n",
      "percentage differences: 0.002 %\n"
     ]
    }
   ],
   "source": [
    "# the instance of PoissonRateInference\n",
    "\n",
    "from binomial_poisson import PoissonRateInference\n",
    "from scipy import stats, special, integrate\n",
    "\n",
    "r_u = 20. \n",
    "r_l=0\n",
    "prior_l, prior_u = 0., 1e5\n",
    "flat_pdf = 1. / (prior_u - prior_l)\n",
    "n, T = 16, 2\n",
    "pri1 = PoissonRateInference(T, n, flat_pdf,r_l, r_u)\n",
    "anly_mean=(n+1)/T\n",
    "pct_diff=round(abs(pri1.mean-anly_mean)*100/anly_mean,3)\n",
    "print('quadrature-based:',pri1.mean)\n",
    "print('formula-based:',anly_mean)\n",
    "print('percentage differences:',pct_diff,'%')"
   ]
  },
  {
   "cell_type": "code",
   "execution_count": 17,
   "metadata": {},
   "outputs": [
    {
     "name": "stdout",
     "output_type": "stream",
     "text": [
      "quadrature-based: 0.663934426229508\n",
      "formula-based: 0.6666666666666666\n",
      "percentage differences: 0.41 %\n"
     ]
    }
   ],
   "source": [
    "# the instance of BionomialRateInference\n",
    "\n",
    "from binomial_poisson import BinomialInference\n",
    "\n",
    "n, n_trials = 80, 120\n",
    "\n",
    "bi1 = BinomialInference(n, n_trials)\n",
    "anly_mean=n/n_trials\n",
    "pct_diff=round(abs(bi1.mean-anly_mean)*100/anly_mean,3)\n",
    "print('quadrature-based:',bi1.mean)\n",
    "print('formula-based:',anly_mean)\n",
    "print('percentage differences:',pct_diff,'%')"
   ]
  },
  {
   "cell_type": "markdown",
   "metadata": {},
   "source": [
    "## 2. Inference with the Cauchy distribution\n",
    "\n",
    "In Lab06 and Problem 1 the `UnivariateBayesianInference` base class was used to numerically compute results for inferences that we can handle analytically.  But this base class can also be used for problems that are not analytically tractable.  In this problem, you'll use it to do inference with data modeled with a **Cauchy distribution**.\n",
    "\n",
    "The Cauchy distribution is a special case of the Student's $t$ distribution covered in Lec08; it corresponds to Student's $t$ with degrees of freedom parameter $\\nu=1$. It has an undefined mean and an infinite variance.  It is troublesome to work with in frequentist statistics.  Even it's maximum likelihood estimator has complicated sampling properties that pose not just computational challenges, but conceptual ones (the best frequentist methods require adopting something called the *conditional frequentist approach*, related to the likelihood principle).  In Bayesian inference, it poses no conceptual difficulties, but it must be handled numerically—which you'll do here.\n",
    "\n",
    "The Cauchy distribution is known in physics as the *Lorentzian distribution*, where in certain circumstances it describes the profile of spectral lines, and the distribution of particle mass peaks in accelerator experiments.  It also appears in problems where the ratio of two quantities with normal errors is of interest; when the quantities are uncorrelated with zero mean, the PDF for the ratio is a Cauchy distribution.  As noted above, the Student's $t$ distribution with 1 degree of freedom is a Cauchy distribution.  It also arises in geometric inference problems, as you will see in this problem.\n",
    "\n",
    "You can find basic information about the Cauchy distribution [on Wikipedia](http://en.wikipedia.org/wiki/Cauchy_distribution) and in the [NIST Engineering Statistics Handbook](http://www.itl.nist.gov/div898/handbook/eda/section3/eda3663.htm)."
   ]
  },
  {
   "cell_type": "markdown",
   "metadata": {
    "tags": [
     "problem=2.1",
     "points=2"
    ]
   },
   "source": [
    "### Problem 2.1 (2 points):\n",
    "\n",
    "A rod of radioactive material is a distance $d$ behind a barrier (e.g., this could be a fuel rod inside a nuclear reactor). A narrow sensor strip is on the barrier, oriented orthogonal to the rod (and not near either of its ends). The rod is at an unknown position, $x_0$, along the sensor.  The sensor records the locations of $N$ gamma rays emitted by the rod, denoted $x_i$ (for $i=1$ to $N$).  We'll assume that $d$ is small compared to the length of the sensor, so that the sensor may be considered essentially infinite in length.\n",
    "\n",
    "The geometry is shown in the following figure, oriented looking down along the rod (shown as a large dot).\n",
    "\n",
    "<img src=\"CauchyGeometry.png\"/>\n",
    "\n",
    "> Assume the rod emits gamma rays isotropically (i.e., with a uniform distribution in the angle $\\theta$; consider only angles corresponding to detectable gamma rays).  Show that the PDF for the detected location of a single gamma ray, $x$, is a Cauchy distribution with location parameter $x_0$ and scale parameter $d$."
   ]
  },
  {
   "cell_type": "markdown",
   "metadata": {},
   "source": [
    "$$tan\\theta=\\frac{x-x_0}{d}\\quad \\theta=arctan(\\frac{x-x_0}{d})$$\n",
    "Therefore, we have $$\\frac{d\\theta}{dx}=\\frac{d\\theta}{d(x-x_0)}=\\frac{d}{d^2+(x-x_0)^2}$$\n",
    "Since angle 𝜃 is assumed uniformly distributed,\n",
    "$$f(x)=f(\\theta)\\frac{d\\theta}{dx} \\propto \\frac{1}{1+(\\frac{x-x_0}{d}) ^2}$$\n",
    " \n",
    "Thus,the PDF for the detected location of a single gamma ray, x, is a Cauchy distribution with location parameter x0 and scale parameter d."
   ]
  },
  {
   "cell_type": "markdown",
   "metadata": {
    "tags": [
     "problem=2.2",
     "points=5"
    ]
   },
   "source": [
    "### Problem 2.2 (5 points):\n",
    "\n",
    "Implement and demonstrate inference for the Cauchy location parameter, $x_0$ (using a uniform prior):\n",
    "\n",
    "> * Create a Python module `cauchy.py` with a class `CauchyLocationInference` that implements inference for the location of Cauchy-distributed data with a *known* scale parameter.\n",
    "* In the notebook, define a function with signature `cauchy_case(x0, d, N, plot=True)` that does the following:\n",
    "    1. Use `scipy.stats.cauchy` to simulate a dataset of size `N` from a Cauchy distribution with location and scale `x0` and `d`.\n",
    "    2. Create an instance of your `CauchyLocationInference` class for inferring `x0` with the simulated data.\n",
    "    3. If the `plot` argument is True, plot the PDF for `x0`.\n",
    "    4. If the `plot` argument is True, show the posterior mean for `x0` on the plot by computing the mean with the `mean()` method, evaluating the PDF at that value, and plotting a marker (e.g., a large dot or diamond) on the curve just plotted in step 3.\n",
    "    5. Return 2 (scalar) values: the value of the posterior mean, and the mean value of the samples in the simulated dataset.\n",
    "* Run the function 5 times, with the same arguments, to produce a single plot with 5 example posterior PDFs. Choose values for `x0` and `d` as you wish.  Use a small sample size (say, $N=5$).  Be sure to label all plot axes in this exercise, and feel free to adjust plot parameters (axis limits, line widths, etc.) to help communicate the results."
   ]
  },
  {
   "cell_type": "code",
   "execution_count": 16,
   "metadata": {},
   "outputs": [],
   "source": [
    "from scipy.stats import *\n",
    "from cauchy import CauchyLocationInference\n",
    "import numpy as np\n",
    "import matplotlib.pyplot as plt\n",
    "\n",
    "def cauchy_case(x0, d, N, plot=True):\n",
    "    #task1\n",
    "    data=cauchy.rvs(loc=x0, scale=d, size=N, random_state=None)\n",
    "    #print(data)\n",
    "    r_u = max(data)+10\n",
    "    r_l=min(data)-10\n",
    "    prior=1\n",
    "    \n",
    "    #task2\n",
    "    ci0 = CauchyLocationInference(data, prior, r_l, r_u,d)\n",
    "    mean=ci0.mean\n",
    "    rvals=ci0.rvals\n",
    "    postpdf=ci0.post_pdf\n",
    "    \n",
    "    #task3-4\n",
    "    #evaluating the PDF at the posterior mean\n",
    "    m_prior=1\n",
    "    m_like=ci0.lfunc(mean)\n",
    "    m_post=m_prior*m_like[0]/ci0.mlike\n",
    "    #m_post=postpdf[np.argmin(abs(rvals-mean))]\n",
    "    \n",
    "    if plot==True:\n",
    "        plt.plot(rvals,postpdf,lw=1)\n",
    "        plt.xlabel(r'$x_0$')\n",
    "        plt.ylabel('Posterior PDF')\n",
    "        plt.title('Cauchy Location estimation')\n",
    "        #plot a marker\n",
    "        plt.scatter([mean],[m_post],c='r')\n",
    "    #print('The posterior mean:',mean)\n",
    "    #print('PDF at the posterior mean',m_post)\n",
    "    #print('The mean value of the samples:',np.mean(data))\n",
    "    \n",
    "    #task5\n",
    "    return mean,np.mean(data)"
   ]
  },
  {
   "cell_type": "code",
   "execution_count": 2,
   "metadata": {},
   "outputs": [
    {
     "data": {
      "image/png": "[encoded data removed]",
      "text/plain": [
       "<Figure size 432x288 with 1 Axes>"
      ]
     },
     "metadata": {
      "needs_background": "light"
     },
     "output_type": "display_data"
    }
   ],
   "source": [
    "#Run the function 5 times with x0=6 d=1\n",
    "for test in range(5):\n",
    "    cauchy_case(6, 1, 5, plot=True)\n",
    "    plt.axis([0, 15, 0, 1])"
   ]
  },
  {
   "cell_type": "markdown",
   "metadata": {
    "tags": [
     "problem=2.3",
     "points=2"
    ]
   },
   "source": [
    "### Problem 2.3 (2 points):\n",
    "\n",
    "Means of one kind or another (e.g., arithmetic or weighted) are often used to estimate parameters from a sample of measurements modeled with IID sampling uncertainties.  The **central limit theorem** (CLT) provides a motivation for this.  It shows that, for large sample sizes $N$, and when the sampling distribution has a finite variance, the sample mean has a PDF that converges to a normal distribution with a standard deviation that, importantly, *shrinks with sample size* $\\propto 1/\\sqrt{N}$.\n",
    "\n",
    "The Cauchy distribution does *not* have a finite variance; as a consequence, the CLT does not hold for the sample mean when the samples are from a Cauchy distribution.  Show this numerically:\n",
    "\n",
    "> * Run your `cauchy_case` function many times (say, 1000, but use fewer for debugging!), with `plot=False`, collecting the posterior means and the sample means in separate arrays.  Use a largish sample size, say, $N=50$ or $100$.\n",
    "* Use matplotlib's `hist` function to plot histograms of the posterior means and sample means.  Use its `normed` parameter to plot the histograms normalized as piecewise-constant PDFs.  You can use the `alpha` (opacity) argument to make regions of overlap easier to discern.  Feel free to change the number of bins from the default value.\n",
    "* Plot the Cauchy PDF for a single observation as a solid curve on the same plot.\n",
    "* Comment on what the plot reveals about the behavior of the sample mean."
   ]
  },
  {
   "cell_type": "code",
   "execution_count": 4,
   "metadata": {},
   "outputs": [],
   "source": [
    "post_mean=np.array([])\n",
    "sample_mean=np.array([])\n",
    "\n",
    "for i in range(0,1000):\n",
    "    p,s=cauchy_case(6, 1, 80, plot=False)\n",
    "    #collect the posterior means and the sample means in separate arrays\n",
    "    post_mean=np.append(post_mean,p)\n",
    "    sample_mean=np.append(sample_mean,s)"
   ]
  },
  {
   "cell_type": "code",
   "execution_count": 5,
   "metadata": {},
   "outputs": [
    {
     "data": {
      "text/plain": [
       "(array([5.38953621e-05, 0.00000000e+00, 0.00000000e+00, 0.00000000e+00,\n",
       "        0.00000000e+00, 5.38953621e-05, 0.00000000e+00, 0.00000000e+00,\n",
       "        0.00000000e+00, 0.00000000e+00, 0.00000000e+00, 0.00000000e+00,\n",
       "        0.00000000e+00, 5.38953621e-05, 0.00000000e+00, 0.00000000e+00,\n",
       "        5.38953621e-05, 0.00000000e+00, 0.00000000e+00, 5.38953621e-05,\n",
       "        0.00000000e+00, 0.00000000e+00, 0.00000000e+00, 0.00000000e+00,\n",
       "        0.00000000e+00, 0.00000000e+00, 0.00000000e+00, 0.00000000e+00,\n",
       "        0.00000000e+00, 1.07790724e-04, 0.00000000e+00, 0.00000000e+00,\n",
       "        0.00000000e+00, 0.00000000e+00, 5.38953621e-05, 3.77267535e-04,\n",
       "        4.31162897e-04, 4.94220471e-02, 2.74866347e-03, 2.69476811e-04,\n",
       "        5.38953621e-05, 5.38953621e-05, 5.38953621e-05, 0.00000000e+00,\n",
       "        0.00000000e+00, 0.00000000e+00, 0.00000000e+00, 0.00000000e+00,\n",
       "        0.00000000e+00, 5.38953621e-05]),\n",
       " array([-694.91937381, -676.36490158, -657.81042934, -639.25595711,\n",
       "        -620.70148488, -602.14701265, -583.59254042, -565.03806818,\n",
       "        -546.48359595, -527.92912372, -509.37465149, -490.82017926,\n",
       "        -472.26570702, -453.71123479, -435.15676256, -416.60229033,\n",
       "        -398.04781809, -379.49334586, -360.93887363, -342.3844014 ,\n",
       "        -323.82992917, -305.27545693, -286.7209847 , -268.16651247,\n",
       "        -249.61204024, -231.057568  , -212.50309577, -193.94862354,\n",
       "        -175.39415131, -156.83967908, -138.28520684, -119.73073461,\n",
       "        -101.17626238,  -82.62179015,  -64.06731792,  -45.51284568,\n",
       "         -26.95837345,   -8.40390122,   10.15057101,   28.70504325,\n",
       "          47.25951548,   65.81398771,   84.36845994,  102.92293217,\n",
       "         121.47740441,  140.03187664,  158.58634887,  177.1408211 ,\n",
       "         195.69529334,  214.24976557,  232.8042378 ]),\n",
       " <BarContainer object of 50 artists>)"
      ]
     },
     "execution_count": 5,
     "metadata": {},
     "output_type": "execute_result"
    },
    {
     "data": {
      "image/png": "[encoded data removed]",
      "text/plain": [
       "<Figure size 432x288 with 1 Axes>"
      ]
     },
     "metadata": {
      "needs_background": "light"
     },
     "output_type": "display_data"
    }
   ],
   "source": [
    "plt.hist(post_mean,bins=50,density=True,color='b',alpha=0.6)\n",
    "plt.hist(sample_mean,bins=50,density=True,color='g',alpha=0.6)\n",
    "#hard to discern when no range is set in the histogram"
   ]
  },
  {
   "cell_type": "code",
   "execution_count": 34,
   "metadata": {},
   "outputs": [
    {
     "data": {
      "image/png": "[encoded data removed]",
      "text/plain": [
       "<Figure size 432x288 with 1 Axes>"
      ]
     },
     "metadata": {
      "needs_background": "light"
     },
     "output_type": "display_data"
    }
   ],
   "source": [
    "#set range of the plot to discern\n",
    "plt.hist(post_mean,range=(-10,20),bins=50,density=True,color='r',alpha=0.6,label='Histogram for posterior mean')\n",
    "plt.hist(sample_mean,range=(-10,20),bins=50,density=True,color='y',alpha=0.6,label='Histogram for sample mean')\n",
    "\n",
    "#plot the Cauchy PDF for a single observation\n",
    "x=np.linspace(-10,20,200)\n",
    "y=cauchy.pdf(x, loc=6, scale=1)\n",
    "plt.plot(x,y,color='blue',label='Cauchy PDF')\n",
    "\n",
    "#set the axis by xmin=-5,xmax=15,ymin=0,ymax=3\n",
    "plt.axis([-5, 15, 0, 3])\n",
    "plt.legend()\n",
    "plt.show()"
   ]
  },
  {
   "cell_type": "markdown",
   "metadata": {},
   "source": [
    "> Comments:\n",
    "\n",
    "According to CLT,for large sample sizes $N$, and when the sampling distribution has a finite variance, the sample mean has a PDF that converges to a normal distribution with a standard deviation that, importantly, *shrinks with sample size* $\\propto 1/\\sqrt{N}$.\n",
    "\n",
    "But it is showm in the plot that the variance for one cauchy observation is close to sample means for 1000 observations, which clearly indicates that the standard deviation of sample means doesn't shrink with sample size. The CLT does not apply to the Cauchy distribution, so Cauchy distribution does not have a finite variance."
   ]
  }
 ],
 "metadata": {
  "celltoolbar": "Tags",
  "kernelspec": {
   "display_name": "Python 3 (ipykernel)",
   "language": "python",
   "name": "python3"
  },
  "language_info": {
   "codemirror_mode": {
    "name": "ipython",
    "version": 3
   },
   "file_extension": ".py",
   "mimetype": "text/x-python",
   "name": "python",
   "nbconvert_exporter": "python",
   "pygments_lexer": "ipython3",
   "version": "3.8.5"
  }
 },
 "nbformat": 4,
 "nbformat_minor": 1
}
