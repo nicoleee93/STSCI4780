{
 "cells": [
  {
   "cell_type": "markdown",
   "metadata": {},
   "source": [
    "# Assignment 03\n",
    "\n",
    "**Due:** Thursday, 2022-02-24, 11:59 PM, as a Jupyter notebook submitted via your repo in the course GitHub organization (see the detailed instructions in our LabResources repo).  Edit the provided Solutions03 notebook with your solutions.  All subproblems (or problems with no subproblems) are worth 1 point unless otherwise noted (grading will give fractional points as appropriate).   Be sure to include the required Python module alongside your solutions notebook in your repo.\n",
    "\n",
    "In derivations, use a bit of text to explain your steps, but you needn't write an essay!"
   ]
  },
  {
   "cell_type": "markdown",
   "metadata": {
    "tags": [
     "problem=1",
     "points=2"
    ]
   },
   "source": [
    "### Problem 1 (2 points):\n",
    "\n",
    "> Use the \"or\" and \"and\" rules to find an expression for $P(A\\lor B \\lor C)$, *not* assuming that $A$, $B$, and $C$ are mutually exclusive. Seek a result using only probabilities for the individual propositions, and \"and\" combinations of them. (You can use a comma instead of $\\land$ for \"and\" if you wish.)  You may use associativity of \"or\" and \"and;\" that is, $A\\lor (B \\lor C) \\equiv (A\\lor B) \\lor C$, and $A\\land (B \\land C) \\equiv (A\\land B) \\land C$.\n",
    "\n",
    "> Do this in two steps:\n",
    "\n",
    "> * Copy the following incomplete truth tables into your solution cell and complete them. For each table, you should find that the two \"starred\" columns (with a leading asterisk—that's not a logic symbol!) have the same truth values in every row, indicating they are logically equivalent. These tables thus establish two *rules of replacement*: where you see one of these formulas, you may substitute the other.  MathJax may make the headings hard to read, so to clarify: the first table aims to show $X\\land Y\\land X \\equiv X\\land Y$ (so you can drop repeated symbols in a multiple \"and\"), and the second table aims to show a kind of distributive rule: $X\\land (Y\\lor Z) \\equiv (X\\land Y)\\lor (X\\land Z)$.\n",
    "\n",
    "> *Hint*: You may find it easier to work on the tables using the [Markdown Tables generator - TablesGenerator.com](https://www.tablesgenerator.com/markdown_tables) web page. Note that you can copy the Markdown for a table in a notebook to your clipboard, and load it into the web page using the `File->Paste...` command on the web page. Then you can revise it there, and copy the result back.\n",
    "\n",
    "| X | Y | * X $\\land$ Y | * (X $\\land$ Y) $\\land$ X |\n",
    "|---|-----|------------|----------------------|\n",
    "| 0   | 0   |            |                      |\n",
    "| 0   | 1   |            |                      |\n",
    "| 1   | 0   |            |                      |\n",
    "| 1   | 1   |            |                      |\n",
    "\n",
    "\n",
    "| X | Y | Z | Y $\\lor$ Z | * X $\\land$ (Y $\\lor$ Z)  | X $\\land$ Y | X $\\land$ Z | * (X $\\land$ Y) $\\lor$ (X $\\land$ Z) |\n",
    "|---|-----|-----|-----------|---------------------|------------|------------|-----------------------------|\n",
    "| 0   | 0   | 0   |           |                     |            |            |                             |\n",
    "| 0   | 0   | 1   |           |                     |            |            |                             |\n",
    "| 0   | 1   | 0   |           |                     |            |            |                             |\n",
    "| 0   | 1   | 1   |           |                     |            |            |                             |\n",
    "| 1   | 0   | 0   |           |                     |            |            |                             |\n",
    "| 1   | 0   | 1   |           |                     |            |            |                             |\n",
    "| 1   | 1   | 0   |           |                     |            |            |                             |\n",
    "| 1   | 1   | 1   |           |                     |            |            |                             |\n",
    "\n",
    "> * With those replacement rules in hand, proceed with deriving the 3-proposition \"or\" rule.\n",
    "\n",
    "> *Hint*: You might guess from the 2-proposition \"or\" rule that the answer is $P(A\\lor B \\lor C) = P(A) + P(B) + P(C) - P(A\\land B \\land C)$. But that's not right. It's quite a bit more complicated (which is why having mutually exclusive alternatives is a great help)."
   ]
  },
  {
   "cell_type": "markdown",
   "metadata": {},
   "source": [
    "> Rule1: X $\\land$ Y=(X $\\land$ Y) $\\land$ X\n",
    "\n",
    "| X | Y | * X $\\land$ Y | * (X $\\land$ Y) $\\land$ X |\n",
    "|---|-----|------------|----------------------|\n",
    "| 0   | 0   |      0      |          0            |\n",
    "| 0   | 1   |       0     |           0           |\n",
    "| 1   | 0   |        0    |          0            |\n",
    "| 1   | 1   |         1   |           1           |\n",
    "\n",
    "> Rule2: X $\\land$ (Y $\\lor$ Z) =(X $\\land$ Y) $\\lor$ (X $\\land$ Z) \n",
    "\n",
    "| X | Y | Z | Y $\\lor$ Z | * X $\\land$ (Y $\\lor$ Z) | X $\\land$ Y | X $\\land$ Z | * (X $\\land$ Y) $\\lor$ (X $\\land$ Z) |\n",
    "|---|---|---|------------|--------------------------|-------------|-------------|--------------------------------------|\n",
    "| 0 | 0 | 0 | 0          | 0                        | 0           | 0           | 0                                    |\n",
    "| 0 | 0 | 1 | 1          | 0                        | 0           | 0           | 0                                    |\n",
    "| 0 | 1 | 0 | 1          | 0                        | 0           | 0           | 0                                    |\n",
    "| 0 | 1 | 1 | 1          | 0                        | 0           | 0           | 0                                    |\n",
    "| 1 | 0 | 0 | 0          | 0                        | 0           | 0           | 0                                    |\n",
    "| 1 | 0 | 1 | 1          | 1                        | 0           | 1           | 1                                    |\n",
    "| 1 | 1 | 0 | 1          | 1                        | 1           | 0           | 1                                    |\n",
    "| 1 | 1 | 1 | 1          | 1                        | 1           | 1           | 1                                    |\n",
    "\n",
    "> Deriving the 3-proposition \"or\" rule:\n",
    "\n",
    "\\begin{align*}\n",
    "P(A \\lor B \\lor C)=&P(A \\lor (B \\lor C))\\\\\n",
    "=&P(A)+P(B \\lor C)-P(A \\land (B \\lor C)) \\quad [2-proposition \"or\" rule]\\\\\n",
    "=&P(A)+P(B)+P(C)-P(B \\land C)-P((A \\land B) \\lor (A \\land C))  \\quad [2-proposition \"or\" rule+Rule2]\\\\\n",
    "=&P(A)+P(B)+P(C)-P(B \\land C)-P((A \\land B)-P(A \\land C)+ P((A \\land B) \\land (A \\land C)) \\quad [2-proposition \"or\" rule]\\\\\n",
    "=&P(A)+P(B)+P(C)-P(B \\land C)-P(A \\land B)-P(A \\land C)+ P(A \\land B \\land C) \\quad [Rule1]\\\\\n",
    "\\end{align*}"
   ]
  },
  {
   "cell_type": "markdown",
   "metadata": {
    "tags": [
     "problem=2",
     "points=2"
    ]
   },
   "source": [
    "### Problem 2 (2 points):\n",
    "\n",
    "> Prove the *general* consistency of chained and joint inferences based on using two datasets to estimate a parameter, $\\theta$ (general in the sense of not assuming conditional independence).\n",
    "\n",
    "> 1. Use Bayes's theorem to write down the posterior PDF for $\\theta$ based on data $D_1$.\n",
    "> 2. Use the posterior from (1) as the prior for inference of $\\theta$ additionally considering new data, $D_2$, using Bayes's theorem to compute an overall posterior PDF for $\\theta$, $p(\\theta|D_1,D_2,\\mathcal{C})$. *Do not assume that the joint sampling distribution for $(D_1,D_2)$ factors*:\n",
    "$$\n",
    "p(D_1,D_2|\\theta) \\ne p(D_1|\\theta)\\times p(D_2|\\theta). \\qquad ||\\; \\mathcal{C}\n",
    "$$\n",
    "> 3. Now suppose you start with the same initial prior used in (1), but consider the two datasets together. Compute the posterior $p(\\theta|D_1,D_2,\\mathcal{C})$ in a single step, considering $(D_1,D_2)$ as a single, pooled dataset.\n",
    "> 4. Show that the results of (2) and (3) are equal (i.e., use the rules of probability theory to show that one result equals the other).\n",
    "\n",
    "> For convenience, you may drop $\\mathcal{C}$ from the notation, since the same contextual information is being used throughout.\n",
    "\n",
    "> *Hint:* You shouldn't have to write out any marginal likelihoods (i.e., writing them as integrals of prior times likelihood) in order to prove consistency."
   ]
  },
  {
   "cell_type": "markdown",
   "metadata": {},
   "source": [
    "> (1)Add $D_1$ and $D_2$ separately\n",
    "\n",
    "$$P(\\theta|D_1)=\\frac{P(\\theta)P(D_1|\\theta)}{P(D_1)}$$\n",
    "\n",
    "> (2)\n",
    "\\begin{align*}\n",
    "P(\\theta|D_1,D_2)=&\\frac{P(\\theta|D_1)P(D_2|D_1,\\theta)}{P(D_2)}\\\\\n",
    "=&\\frac{P(\\theta)P(D_1|\\theta)}{P(D_1)} \\frac{P(D_2|D_1,\\theta)}{P(D_2)} \\\\\n",
    "=&\\frac{P(\\theta)P(D_1|\\theta)P(D_2|D_1,\\theta)}{P(D_1)P(D_2)}\\\\\n",
    "=&\\frac{P(\\theta)P(D_1,D_2|\\theta)}{P(D_1)P(D_2)}\\\\\n",
    "\\end{align*}\n",
    "\n",
    "> (3)Consider the two datasets together\n",
    "\n",
    "$$P(\\theta|D_1,D_2)=\\frac{P(\\theta)P(D_1,D_2|\\theta)}{P(D_1,D_2)}$$\n",
    "\n",
    "> (4) $D_1,D_2$ are drawn independently,thus $P(D_1,D_2)=P(D_1)P(D_2)$. The results in (2) and (3) are equal."
   ]
  },
  {
   "cell_type": "markdown",
   "metadata": {
    "tags": [
     "problem=3.1",
     "points=2"
    ]
   },
   "source": [
    "### Problem 3.1 (2 points):\n",
    "\n",
    "> Use *completing the square* to derive the equations for the posterior mean, $\\tilde{\\mu}$, and the posterior width (standard deviation), $\\tilde{w}$.\n",
    "\n",
    "> ***Hint 1:*** As noted in lecture, the algebra for manipulating Gaussians is often bit easier if you work in terms of the precision, $\\tau \\equiv 1/\\sigma^2$, rather than the standard deviation, $\\sigma$.  So consider working in terms of the prior precision, $\\tau_0 \\equiv 1/w_0^2$, the precision for the likelihood function, $\\tau \\equiv 1/w^2$, and the posterior precision, $\\tilde{\\tau} \\equiv 1/\\tilde{w}^2$.  Convert your expressions for the posterior mean and precision into formulas involving the widths at the end.\n",
    "\n",
    "> ***Hint 2:*** To identify the location and width parameters, you don't care about the constant terms arising when you complete the square (they merely adjust the normalization constant of the final Gaussian).  So feel free to gather uninteresting constants in an unspecified constant, $C$, as you work.  This will save a small bit of algebraic effort."
   ]
  },
  {
   "cell_type": "markdown",
   "metadata": {},
   "source": [
    "> Likelihood :$P(D|\\mu,\\sigma,C)\\propto exp(-\\frac{N(\\mu-\\overline d)^2}{2\\sigma^2})$\n",
    "\n",
    "> Normal Prior: $\\mu$ ~ $N(\\mu_0,w_0^2)$ \n",
    "\n",
    ">Notations:\n",
    "$\\tau \\equiv 1/w^2,\\tau_0 \\equiv 1/w_0^2,B=\\frac{w^2}{w^2+w_0^2}=\\frac{\\tau_0+\\tau}{\\tau}$\n",
    "\n",
    "\n",
    ">\\begin{align}\n",
    "P(D|\\mu,\\sigma,C) \\propto\\ &  exp(-\\frac{(\\mu-\\mu_0)^2}{2w_0^2}-\\frac{N(\\mu-\\overline d)^2}{2\\sigma^2}) \\\\\n",
    "\\propto\\ & exp(-\\frac{\\tau_0(\\mu-\\mu_0)^2}{2}-\\frac{\\tau(\\mu-\\overline d)^2}{2}) \\quad, standard \\ deviation\\ w^2=\\sigma^2/N\\\\\n",
    "\\propto\\ &  exp(-(\\mu-\\frac{\\tau_0 \\mu_0+\\tau \\overline d}{\\tau+\\tau_0})^2/\\frac{2}{\\tau+\\tau_0}) \\\\\n",
    "\\end{align}\n",
    "> The posterior is $N(\\tilde{\\mu},\\tilde{w}^2)$ with: \n",
    "$$\\tilde{\\mu}=\\frac{\\tau_0 \\mu_0+\\tau \\overline d}{\\tau+\\tau_0}=\\frac{w_0^2}{w^2+w_0^2}\\mu_0+\\frac{w^2}{w^2+w_0^2}\\overline d$$\n",
    "$$\\tilde{w}=\\frac{1}{\\sqrt{\\tau+\\tau_0}}=\\frac{w_0 w}{\\sqrt{w^2+w_0^2}}$$"
   ]
  },
  {
   "cell_type": "markdown",
   "metadata": {
    "tags": [
     "problem=3.2",
     "points=2"
    ]
   },
   "source": [
    "### Problem 3.2 (2 points):\n",
    "\n",
    "> Create and demonstrate a Python function that can produce plots like those shown on slide 14 of Lec07, showing the prior PDF, likelihood function, and posterior PDF for the normal-normal problem.  Do not implement Bayes's theorem directly (i.e., multiplying prior times likelihood function and normalizing)—you'll do that for Problem 3.3.  Here simply use the analytical results given in the lecture.  (You need not match the lecture figure exactly in terms of choices like color choices or the scale of the likelihood function.)\n",
    "\n",
    "> Write the function in a Python module, for importing into your solution notebook.  A template module is provided as `norm_norm.py`.  Write your code in that file (you can test/debug either in your notebook, or by running it at the command line with `ipython`).  Import the module into your notebook and use the imported functions to produce the requested plots in your notebook.\n",
    "\n",
    "> * Use the function signature `plot_norm_norm1(mus, mu0, w0, dbar, w)`, with the five arguments denoting a vector of $\\mu$ values for computing/plotting, the prior mean, prior width, sample mean, and likelihood width (i.e., the value of $\\sigma/\\sqrt{N}$) respectively.\n",
    "> * Use \"frozen\" instances of the `scipy.stats.norm` continuous RV object to represent the prior PDF, likelihood function, and posterior PDF.  Strictly speaking, *the likelihood is not a PDF* (for $\\mu$), but since we usually only need the likelihood to be specified up to an arbitrary constant factor, it is computationally convenient to represent the likelihood with a PDF, so we can use SciPy's built-in functions to compute it.\n",
    "> * Use the `FigLRAxes` class (provided in the incomplete module) to plot the prior and posterior PDFs against the left axis, and the likelihood function against the right axis.\n",
    "> * Generate a figure resembling the one on the right of Lec07 slide 14.  The relevant parameter values are provided in the template `.py` file."
   ]
  },
  {
   "cell_type": "code",
   "execution_count": 1,
   "metadata": {},
   "outputs": [
    {
     "data": {
      "image/png": "[encoded data removed]",
      "text/plain": [
       "<Figure size 576x432 with 2 Axes>"
      ]
     },
     "metadata": {
      "needs_background": "light"
     },
     "output_type": "display_data"
    }
   ],
   "source": [
    "\"\"\"\n",
    "Functions for computing and plotting components of a\n",
    "Bayesian normal-normal conjugate model.\n",
    "\"\"\"\n",
    "\n",
    "from numpy import *\n",
    "import matplotlib as mpl\n",
    "from matplotlib.pyplot import *\n",
    "from scipy import stats, integrate\n",
    "import numpy.testing as npt\n",
    "from math import sqrt\n",
    "\n",
    "class FigLRAxes:\n",
    "    \"\"\"\n",
    "    A figure with two ordinate axes (left and right) sharing a common\n",
    "    abscissa axis.\n",
    "    \n",
    "    In matplotlib lingo, this is a two-scale plot using twinx().\n",
    "    \"\"\"\n",
    "\n",
    "    def __init__(self, figsize=(8,6), l=0.15, r=0.85):\n",
    "        self.fig = figure(figsize=figsize)\n",
    "        # Left and right axes:\n",
    "        self.leftax = self.fig.add_subplot(111)\n",
    "        self.fig.subplots_adjust(left=l, right=r)\n",
    "        self.rightax = self.leftax.twinx()\n",
    "        # Use thicker frame lines.\n",
    "        self.leftax.patch.set_lw(1.25)  # thicker frame lines\n",
    "        self.rightax.patch.set_lw(1.25)  # thicker frame lines\n",
    "        # Leave with the left axes as current.\n",
    "        self.fig.sca(self.leftax)\n",
    "\n",
    "    def left(self):\n",
    "        self.fig.sca(self.leftax)\n",
    "        return self.leftax\n",
    "\n",
    "    def right(self):\n",
    "        self.fig.sca(self.rightax)\n",
    "        return self.rightax\n",
    "\n",
    "\n",
    "def plot_norm_norm1(mus, mu0, w0, dbar, w):\n",
    "    \"\"\"\n",
    "    Plot the prior, likelihood, and posterior for a\n",
    "    normal-normal conjugate Bayesian model.\n",
    "    \"\"\"\n",
    "    # Prior as a frozen RV object:\n",
    "    prior = stats.norm(mu0, w0)\n",
    "    # Strictly speaking, the likelihood is not a PDF;\n",
    "    # we'll take it as proportional to a normal PDF,\n",
    "    # with unit proportionality constant.\n",
    "    like = stats.norm(dbar, w)\n",
    "\n",
    "    # *** YOUR COMPUTATION OF POSTERIOR HERE ***\n",
    "    B=w*w/(w*w+w0*w0)\n",
    "    posterior=stats.norm(dbar+B*(mu0-dbar),w*sqrt(1-B))\n",
    "    fig = FigLRAxes()\n",
    "\n",
    "    # Prior, posterior against left axis:\n",
    "    # *** YOUR CODE HERE ***\n",
    "    plot(mus, prior.pdf(mus), 'b-', lw=2, label='Prior')\n",
    "    plot(mus, posterior.pdf(mus), 'k-', lw=2, alpha=.7, label='Post')\n",
    "    xlabel(r'$\\alpha$')\n",
    "    ylabel('PDF')\n",
    "    legend(loc='upper left')\n",
    "    # Likelihood against the right axis:\n",
    "    # *** YOUR CODE HERE***\n",
    "    fig.right()\n",
    "    plot(mus,like.pdf(mus), 'r:', lw=4, alpha=.5, label='Like')\n",
    "    ylabel('Like')\n",
    "    legend(loc='upper right')\n",
    "    # Use the same ylim, so the height of the likelihood curve\n",
    "    # reflects its width relative to the prior & posterior:\n",
    "    fig.left()\n",
    "    l, u = ylim()\n",
    "    fig.right()\n",
    "    ylim(l, u)\n",
    "\n",
    "\n",
    "mus = linspace(0., 20., 500)\n",
    "plot_norm_norm1(mus, 10., 2., 3., 1.)\n",
    "    "
   ]
  },
  {
   "cell_type": "markdown",
   "metadata": {
    "tags": [
     "problem=3.3",
     "points=2"
    ]
   },
   "source": [
    "### Problem 3.3 (2 points):\n",
    "\n",
    "> * Write a second function, `plot_norm_norm2(mus, mu0, w0, dbar, w)`, that does the same computation and plotting *numerically*, along the lines of the binomial example in the Lab04 notebook, i.e., evaluating the prior and likelihood on a grid of $\\mu$ values, computing the marginal likelihood numerically with the trapezoid rule, and using those ingredients to compute the posterior PDF on a grid.\n",
    "> * Have this function return the grid of posterior PDF values.\n",
    "> * In the `norm_norm.py` file, write a test function to verify normalization of the computed posterior (a stub is provided). In your notebook, run the test using the `pytest` command."
   ]
  },
  {
   "cell_type": "code",
   "execution_count": 5,
   "metadata": {},
   "outputs": [
    {
     "name": "stdout",
     "output_type": "stream",
     "text": [
      "\u001b[1m============================= test session starts ==============================\u001b[0m\n",
      "platform darwin -- Python 3.8.5, pytest-6.2.4, py-1.10.0, pluggy-0.13.1\n",
      "rootdir: /Users/nicolehan/Desktop/STSCI 4780/labResource/Lab04\n",
      "plugins: anyio-2.2.0\n",
      "collected 1 item                                                               \u001b[0m\u001b[1m\n",
      "\n",
      "norm_norm.py \u001b[32m.\u001b[0m\u001b[32m                                                           [100%]\u001b[0m\n",
      "\n",
      "\u001b[32m============================== \u001b[32m\u001b[1m1 passed\u001b[0m\u001b[32m in 1.99s\u001b[0m\u001b[32m ===============================\u001b[0m\n"
     ]
    },
    {
     "data": {
      "image/png": "[encoded data removed]",
      "text/plain": [
       "<Figure size 576x432 with 2 Axes>"
      ]
     },
     "metadata": {
      "needs_background": "light"
     },
     "output_type": "display_data"
    }
   ],
   "source": [
    "import numpy.testing as npt\n",
    "\n",
    "def plot_norm_norm2(mus, mu0, w0, dbar, w):\n",
    "    \"\"\"\n",
    "    Plot the prior, likelihood, and posterior for a\n",
    "    normal-normal conjugate Bayesian model.\n",
    "    \"\"\"\n",
    "    # Prior as a frozen RV object:\n",
    "    prior = stats.norm(mu0, w0)\n",
    "    # Strictly speaking, the likelihood is not a PDF;\n",
    "    # we'll take it as proportional to a normal PDF,\n",
    "    # with unit proportionality constant.\n",
    "    like = stats.norm(dbar, w)\n",
    "\n",
    "    # *** YOUR NUMERICAL COMPUTATION OF POSTERIOR HERE ***\n",
    "    pvals=prior.pdf(mus)\n",
    "    lvals=like.pdf(mus)\n",
    "    mlike = integrate.trapz(pvals*lvals, mus)\n",
    "    ppdf = pvals*lvals/mlike\n",
    "    fig = FigLRAxes()\n",
    "\n",
    "    # Prior, posterior against left axis:\n",
    "    # *** YOUR CODE HERE ***\n",
    "    plot(mus, pvals, 'b-', lw=2, label='Prior')\n",
    "    plot(mus, ppdf, 'k-', lw=2, alpha=.7, label='Post')\n",
    "    xlabel(r'$\\alpha$')\n",
    "    ylabel('PDF')\n",
    "    legend(loc='upper left')\n",
    "    # Likelihood against the right axis:\n",
    "    fig.right()\n",
    "    # *** YOUR CODE HERE***\n",
    "    plot(mus,lvals, 'r:', lw=4, alpha=.5, label='Like')\n",
    "    ylabel('Like')\n",
    "    legend(loc='upper right')\n",
    "    \n",
    "    # Use the same ylim, so the height of the likelihood curve\n",
    "    # reflects its width relative to the prior & posterior:\n",
    "    fig.left()\n",
    "    l, u = ylim()\n",
    "    fig.right()\n",
    "    ylim(l, u)\n",
    "\n",
    "    \n",
    "mus = linspace(0., 20., 500)\n",
    "ppdf = plot_norm_norm2(mus, 10., 2., 3., 1.)\n",
    "! pytest norm_norm.py\n",
    "\n"
   ]
  },
  {
   "cell_type": "code",
   "execution_count": null,
   "metadata": {},
   "outputs": [],
   "source": []
  }
 ],
 "metadata": {
  "celltoolbar": "Tags",
  "kernelspec": {
   "display_name": "Python 3 (ipykernel)",
   "language": "python",
   "name": "python3"
  },
  "language_info": {
   "codemirror_mode": {
    "name": "ipython",
    "version": 3
   },
   "file_extension": ".py",
   "mimetype": "text/x-python",
   "name": "python",
   "nbconvert_exporter": "python",
   "pygments_lexer": "ipython3",
   "version": "3.8.5"
  }
 },
 "nbformat": 4,
 "nbformat_minor": 1
}
