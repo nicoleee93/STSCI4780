{
 "cells": [
  {
   "cell_type": "markdown",
   "metadata": {},
   "source": [
    "# Assignment 03\n",
    "\n",
    "**Due:** Thursday, 2022-02-24, 11:59 PM, as a Jupyter notebook submitted via your repo in the course GitHub organization (see the detailed instructions in our LabResources repo).  Edit the provided Solutions03 notebook with your solutions.  All subproblems (or problems with no subproblems) are worth 1 point unless otherwise noted (grading will give fractional points as appropriate).   Be sure to include the required Python module alongside your solutions notebook in your repo.\n",
    "\n",
    "In derivations, use a bit of text to explain your steps, but you needn't write an essay!"
   ]
  },
  {
   "cell_type": "markdown",
   "metadata": {
    "tags": [
     "problem=1",
     "points=2"
    ]
   },
   "source": [
    "### Problem 1 (2 points):\n",
    "\n",
    "> Use the \"or\" and \"and\" rules to find an expression for $P(A\\lor B \\lor C)$, *not* assuming that $A$, $B$, and $C$ are mutually exclusive. Seek a result using only probabilities for the individual propositions, and \"and\" combinations of them. (You can use a comma instead of $\\land$ for \"and\" if you wish.)  You may use associativity of \"or\" and \"and;\" that is, $A\\lor (B \\lor C) \\equiv (A\\lor B) \\lor C$, and $A\\land (B \\land C) \\equiv (A\\land B) \\land C$.\n",
    "\n",
    "> Do this in two steps:\n",
    "\n",
    "> * Copy the following incomplete truth tables into your solution cell and complete them. For each table, you should find that the two \"starred\" columns (with a leading asterisk—that's not a logic symbol!) have the same truth values in every row, indicating they are logically equivalent. These tables thus establish two *rules of replacement*: where you see one of these formulas, you may substitute the other.  MathJax may make the headings hard to read, so to clarify: the first table aims to show $X\\land Y\\land X \\equiv X\\land Y$ (so you can drop repeated symbols in a multiple \"and\"), and the second table aims to show a kind of distributive rule: $X\\land (Y\\lor Z) \\equiv (X\\land Y)\\lor (X\\land Z)$.\n",
    "\n",
    "> *Hint*: You may find it easier to work on the tables using the [Markdown Tables generator - TablesGenerator.com](https://www.tablesgenerator.com/markdown_tables) web page. Note that you can copy the Markdown for a table in a notebook to your clipboard, and load it into the web page using the `File->Paste...` command on the web page. Then you can revise it there, and copy the result back.\n",
    "\n",
    "| X | Y | * X $\\land$ Y | * (X $\\land$ Y) $\\land$ X |\n",
    "|---|-----|------------|----------------------|\n",
    "| 0   | 0   |            |                      |\n",
    "| 0   | 1   |            |                      |\n",
    "| 1   | 0   |            |                      |\n",
    "| 1   | 1   |            |                      |\n",
    "\n",
    "\n",
    "| X | Y | Z | Y $\\lor$ Z | * X $\\land$ (Y $\\lor$ Z)  | X $\\land$ Y | X $\\land$ Z | * (X $\\land$ Y) $\\lor$ (X $\\land$ Z) |\n",
    "|---|-----|-----|-----------|---------------------|------------|------------|-----------------------------|\n",
    "| 0   | 0   | 0   |           |                     |            |            |                             |\n",
    "| 0   | 0   | 1   |           |                     |            |            |                             |\n",
    "| 0   | 1   | 0   |           |                     |            |            |                             |\n",
    "| 0   | 1   | 1   |           |                     |            |            |                             |\n",
    "| 1   | 0   | 0   |           |                     |            |            |                             |\n",
    "| 1   | 0   | 1   |           |                     |            |            |                             |\n",
    "| 1   | 1   | 0   |           |                     |            |            |                             |\n",
    "| 1   | 1   | 1   |           |                     |            |            |                             |\n",
    "\n",
    "> * With those replacement rules in hand, proceed with deriving the 3-proposition \"or\" rule.\n",
    "\n",
    "> *Hint*: You might guess from the 2-proposition \"or\" rule that the answer is $P(A\\lor B \\lor C) = P(A) + P(B) + P(C) - P(A\\land B \\land C)$. But that's not right. It's quite a bit more complicated (which is why having mutually exclusive alternatives is a great help)."
   ]
  },
  {
   "cell_type": "markdown",
   "metadata": {
    "tags": [
     "problem=2",
     "points=2"
    ]
   },
   "source": [
    "### Problem 2 (2 points):\n",
    "\n",
    "> Prove the *general* consistency of chained and joint inferences based on using two datasets to estimate a parameter, $\\theta$ (general in the sense of not assuming conditional independence).\n",
    "\n",
    "> 1. Use Bayes's theorem to write down the posterior PDF for $\\theta$ based on data $D_1$.\n",
    "> 2. Use the posterior from (1) as the prior for inference of $\\theta$ additionally considering new data, $D_2$, using Bayes's theorem to compute an overall posterior PDF for $\\theta$, $p(\\theta|D_1,D_2,\\mathcal{C})$. *Do not assume that the joint sampling distribution for $(D_1,D_2)$ factors*:\n",
    "$$\n",
    "p(D_1,D_2|\\theta) \\ne p(D_1|\\theta)\\times p(D_2|\\theta). \\qquad ||\\; \\mathcal{C}\n",
    "$$\n",
    "> 3. Now suppose you start with the same initial prior used in (1), but consider the two datasets together. Compute the posterior $p(\\theta|D_1,D_2,\\mathcal{C})$ in a single step, considering $(D_1,D_2)$ as a single, pooled dataset.\n",
    "> 4. Show that the results of (2) and (3) are equal (i.e., use the rules of probability theory to show that one result equals the other).\n",
    "\n",
    "> For convenience, you may drop $\\mathcal{C}$ from the notation, since the same contextual information is being used throughout.\n",
    "\n",
    "> *Hint:* You shouldn't have to write out any marginal likelihoods (i.e., writing them as integrals of prior times likelihood) in order to prove consistency."
   ]
  },
  {
   "cell_type": "markdown",
   "metadata": {
    "tags": [
     "problem=3.1",
     "points=2"
    ]
   },
   "source": [
    "### Problem 3.1 (2 points):\n",
    "\n",
    "> Use *completing the square* to derive the equations for the posterior mean, $\\tilde{\\mu}$, and the posterior width (standard deviation), $\\tilde{w}$.\n",
    "\n",
    "> ***Hint 1:*** As noted in lecture, the algebra for manipulating Gaussians is often bit easier if you work in terms of the precision, $\\tau \\equiv 1/\\sigma^2$, rather than the standard deviation, $\\sigma$.  So consider working in terms of the prior precision, $\\tau_0 \\equiv 1/w_0^2$, the precision for the likelihood function, $\\tau \\equiv 1/w^2$, and the posterior precision, $\\tilde{\\tau} \\equiv 1/\\tilde{w}^2$.  Convert your expressions for the posterior mean and precision into formulas involving the widths at the end.\n",
    "\n",
    "> ***Hint 2:*** To identify the location and width parameters, you don't care about the constant terms arising when you complete the square (they merely adjust the normalization constant of the final Gaussian).  So feel free to gather uninteresting constants in an unspecified constant, $C$, as you work.  This will save a small bit of algebraic effort."
   ]
  },
  {
   "cell_type": "markdown",
   "metadata": {
    "tags": [
     "problem=3.2",
     "points=2"
    ]
   },
   "source": [
    "### Problem 3.2 (2 points):\n",
    "\n",
    "> Create and demonstrate a Python function that can produce plots like those shown on slide 14 of Lec07, showing the prior PDF, likelihood function, and posterior PDF for the normal-normal problem.  Do not implement Bayes's theorem directly (i.e., multiplying prior times likelihood function and normalizing)—you'll do that for Problem 3.3.  Here simply use the analytical results given in the lecture.  (You need not match the lecture figure exactly in terms of choices like color choices or the scale of the likelihood function.)\n",
    "\n",
    "> Write the function in a Python module, for importing into your solution notebook.  A template module is provided as `norm_norm.py`.  Write your code in that file (you can test/debug either in your notebook, or by running it at the command line with `ipython`).  Import the module into your notebook and use the imported functions to produce the requested plots in your notebook.\n",
    "\n",
    "> * Use the function signature `plot_norm_norm1(mus, mu0, w0, dbar, w)`, with the five arguments denoting a vector of $\\mu$ values for computing/plotting, the prior mean, prior width, sample mean, and likelihood width (i.e., the value of $\\sigma/\\sqrt{N}$) respectively.\n",
    "> * Use \"frozen\" instances of the `scipy.stats.norm` continuous RV object to represent the prior PDF, likelihood function, and posterior PDF.  Strictly speaking, *the likelihood is not a PDF* (for $\\mu$), but since we usually only need the likelihood to be specified up to an arbitrary constant factor, it is computationally convenient to represent the likelihood with a PDF, so we can use SciPy's built-in functions to compute it.\n",
    "> * Use the `FigLRAxes` class (provided in the incomplete module) to plot the prior and posterior PDFs against the left axis, and the likelihood function against the right axis.\n",
    "> * Generate a figure resembling the one on the right of Lec07 slide 14.  The relevant parameter values are provided in the template `.py` file."
   ]
  },
  {
   "cell_type": "markdown",
   "metadata": {
    "tags": [
     "problem=3.3",
     "points=2"
    ]
   },
   "source": [
    "### Problem 3.3 (2 points):\n",
    "\n",
    "> * Write a second function, `plot_norm_norm2(mus, mu0, w0, dbar, w)`, that does the same computation and plotting *numerically*, along the lines of the binomial example in the Lab04 notebook, i.e., evaluating the prior and likelihood on a grid of $\\mu$ values, computing the marginal likelihood numerically with the trapezoid rule, and using those ingredients to compute the posterior PDF on a grid.\n",
    "> * Have this function return the grid of posterior PDF values.\n",
    "> * In the `norm_norm.py` file, write a test function to verify normalization of the computed posterior (a stub is provided). In your notebook, run the test using the `pytest` command."
   ]
  }
 ],
 "metadata": {
  "celltoolbar": "Tags",
  "kernelspec": {
   "display_name": "Python 3 (ipykernel)",
   "language": "python",
   "name": "python3"
  },
  "language_info": {
   "codemirror_mode": {
    "name": "ipython",
    "version": 3
   },
   "file_extension": ".py",
   "mimetype": "text/x-python",
   "name": "python",
   "nbconvert_exporter": "python",
   "pygments_lexer": "ipython3",
   "version": "3.9.7"
  }
 },
 "nbformat": 4,
 "nbformat_minor": 1
}
